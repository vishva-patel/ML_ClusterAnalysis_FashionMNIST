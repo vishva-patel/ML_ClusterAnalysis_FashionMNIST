{
  "nbformat": 4,
  "nbformat_minor": 0,
  "metadata": {
    "colab": {
      "name": "main",
      "provenance": [],
      "collapsed_sections": []
    },
    "kernelspec": {
      "name": "python3",
      "display_name": "Python 3"
    },
    "accelerator": "GPU"
  },
  "cells": [
    {
      "cell_type": "markdown",
      "metadata": {
        "id": "bX4WDh4sal4Q",
        "colab_type": "text"
      },
      "source": [
        "# CSE - 574 - Introduction to Machine Learning\n",
        "## Project - 3 - Part 1\n",
        "\n",
        "#### Submitted by - Vishva Nitin Patel (vishvani - UB # 50318625)"
      ]
    },
    {
      "cell_type": "code",
      "metadata": {
        "id": "d44TznbgZZgm",
        "colab_type": "code",
        "outputId": "0e5d3ba6-d687-4bf1-c9e4-c5a563eb8fd7",
        "colab": {
          "base_uri": "https://localhost:8080/",
          "height": 241
        }
      },
      "source": [
        "import sklearn\n",
        "from sklearn.metrics import accuracy_score\n",
        "from sklearn.metrics import adjusted_mutual_info_score\n",
        "from sklearn.metrics import normalized_mutual_info_score\n",
        "from sklearn.cluster import KMeans\n",
        "from sklearn.metrics import confusion_matrix\n",
        "import tensorflow as tf\n",
        "import numpy as np\n",
        "import matplotlib.pyplot as plt\n",
        "\n",
        "(x_train, y_train), (x_test, y_test) = tf.keras.datasets.fashion_mnist.load_data()\n",
        "print(\"x_train shape:\", x_train.shape, \"y_train shape:\", y_train.shape)\n",
        "print(\"x_test shape:\", x_test.shape, \"y_test shape:\", y_test.shape)"
      ],
      "execution_count": 1,
      "outputs": [
        {
          "output_type": "display_data",
          "data": {
            "text/html": [
              "<p style=\"color: red;\">\n",
              "The default version of TensorFlow in Colab will soon switch to TensorFlow 2.x.<br>\n",
              "We recommend you <a href=\"https://www.tensorflow.org/guide/migrate\" target=\"_blank\">upgrade</a> now \n",
              "or ensure your notebook will continue to use TensorFlow 1.x via the <code>%tensorflow_version 1.x</code> magic:\n",
              "<a href=\"https://colab.research.google.com/notebooks/tensorflow_version.ipynb\" target=\"_blank\">more info</a>.</p>\n"
            ],
            "text/plain": [
              "<IPython.core.display.HTML object>"
            ]
          },
          "metadata": {
            "tags": []
          }
        },
        {
          "output_type": "stream",
          "text": [
            "Downloading data from https://storage.googleapis.com/tensorflow/tf-keras-datasets/train-labels-idx1-ubyte.gz\n",
            "32768/29515 [=================================] - 0s 0us/step\n",
            "Downloading data from https://storage.googleapis.com/tensorflow/tf-keras-datasets/train-images-idx3-ubyte.gz\n",
            "26427392/26421880 [==============================] - 0s 0us/step\n",
            "Downloading data from https://storage.googleapis.com/tensorflow/tf-keras-datasets/t10k-labels-idx1-ubyte.gz\n",
            "8192/5148 [===============================================] - 0s 0us/step\n",
            "Downloading data from https://storage.googleapis.com/tensorflow/tf-keras-datasets/t10k-images-idx3-ubyte.gz\n",
            "4423680/4422102 [==============================] - 0s 0us/step\n",
            "x_train shape: (60000, 28, 28) y_train shape: (60000,)\n",
            "x_test shape: (10000, 28, 28) y_test shape: (10000,)\n"
          ],
          "name": "stdout"
        }
      ]
    },
    {
      "cell_type": "code",
      "metadata": {
        "id": "DMR6VnLjsRVc",
        "colab_type": "code",
        "outputId": "749db96b-4ef2-4cd5-bd54-39559ac75584",
        "colab": {
          "base_uri": "https://localhost:8080/",
          "height": 87
        }
      },
      "source": [
        "#checking the dimensions\n",
        "nsamples, nx, ny = x_train.shape\n",
        "x_train = x_train.reshape((nsamples,nx*ny))\n",
        "print(nsamples)\n",
        "print(x_train.shape)\n",
        "\n",
        "nsamples, nx, ny = x_test.shape\n",
        "x_test = x_test.reshape((nsamples,nx*ny))\n",
        "print(nsamples)\n",
        "print(x_train.shape)\n",
        "\n",
        "x_train = x_train/255\n",
        "x_test = x_test/255"
      ],
      "execution_count": 2,
      "outputs": [
        {
          "output_type": "stream",
          "text": [
            "60000\n",
            "(60000, 784)\n",
            "10000\n",
            "(60000, 784)\n"
          ],
          "name": "stdout"
        }
      ]
    },
    {
      "cell_type": "code",
      "metadata": {
        "id": "1JYDs26TNtCo",
        "colab_type": "code",
        "outputId": "4bdd37b1-adb9-4192-e066-8df1c022fcf1",
        "colab": {
          "base_uri": "https://localhost:8080/",
          "height": 581
        }
      },
      "source": [
        "# Mapping to labels\n",
        "for counter in range(len(y_train)):\n",
        "  print(y_train[counter],\" \",counter)\n",
        "  if counter == 30:\n",
        "    break"
      ],
      "execution_count": 0,
      "outputs": [
        {
          "output_type": "stream",
          "text": [
            "9   0\n",
            "0   1\n",
            "0   2\n",
            "3   3\n",
            "0   4\n",
            "2   5\n",
            "7   6\n",
            "2   7\n",
            "5   8\n",
            "5   9\n",
            "0   10\n",
            "9   11\n",
            "5   12\n",
            "5   13\n",
            "7   14\n",
            "9   15\n",
            "1   16\n",
            "0   17\n",
            "6   18\n",
            "4   19\n",
            "3   20\n",
            "1   21\n",
            "4   22\n",
            "8   23\n",
            "4   24\n",
            "3   25\n",
            "0   26\n",
            "2   27\n",
            "4   28\n",
            "4   29\n",
            "5   30\n"
          ],
          "name": "stdout"
        }
      ]
    },
    {
      "cell_type": "code",
      "metadata": {
        "id": "2J-MlAM9N9c8",
        "colab_type": "code",
        "colab": {}
      },
      "source": [
        "cluster_array = [x_train[1], x_train[16], x_train[27], x_train[20], x_train[29], x_train[13], x_train[18], x_train[6], x_train[23], x_train[0]]"
      ],
      "execution_count": 0,
      "outputs": []
    },
    {
      "cell_type": "code",
      "metadata": {
        "id": "pnNZaTk_sjen",
        "colab_type": "code",
        "outputId": "422fb91d-e881-4a7b-c1b1-f1e5aaaf61a5",
        "colab": {
          "base_uri": "https://localhost:8080/",
          "height": 35
        }
      },
      "source": [
        "#Applying K-Means:\n",
        "n_clusters = len(np.unique(y_train))\n",
        "print(n_clusters) # 10\n",
        "kmeans = KMeans(n_clusters = n_clusters, random_state=4, init = np.array(cluster_array))"
      ],
      "execution_count": 0,
      "outputs": [
        {
          "output_type": "stream",
          "text": [
            "10\n"
          ],
          "name": "stdout"
        }
      ]
    },
    {
      "cell_type": "code",
      "metadata": {
        "id": "ioA-M8gmtBCu",
        "colab_type": "code",
        "outputId": "c554fc6c-2b31-4342-db13-ecfb55b504c1",
        "colab": {
          "base_uri": "https://localhost:8080/",
          "height": 255
        }
      },
      "source": [
        "kmeans.fit(x_train)"
      ],
      "execution_count": 0,
      "outputs": [
        {
          "output_type": "stream",
          "text": [
            "/usr/local/lib/python3.6/dist-packages/sklearn/cluster/k_means_.py:972: RuntimeWarning: Explicit initial center position passed: performing only one init in k-means instead of n_init=10\n",
            "  return_n_iter=True)\n"
          ],
          "name": "stderr"
        },
        {
          "output_type": "execute_result",
          "data": {
            "text/plain": [
              "KMeans(algorithm='auto', copy_x=True,\n",
              "       init=array([[0., 0., 0., ..., 0., 0., 0.],\n",
              "       [0., 0., 0., ..., 0., 0., 0.],\n",
              "       [0., 0., 0., ..., 0., 0., 0.],\n",
              "       ...,\n",
              "       [0., 0., 0., ..., 0., 0., 0.],\n",
              "       [0., 0., 0., ..., 0., 0., 0.],\n",
              "       [0., 0., 0., ..., 0., 0., 0.]]),\n",
              "       max_iter=300, n_clusters=10, n_init=10, n_jobs=None,\n",
              "       precompute_distances='auto', random_state=4, tol=0.0001, verbose=0)"
            ]
          },
          "metadata": {
            "tags": []
          },
          "execution_count": 8
        }
      ]
    },
    {
      "cell_type": "code",
      "metadata": {
        "id": "kJmNjP4zrjAg",
        "colab_type": "code",
        "outputId": "c3594665-3436-4cda-9bee-298108683f98",
        "colab": {
          "base_uri": "https://localhost:8080/",
          "height": 483
        }
      },
      "source": [
        "y_pred = kmeans.predict(x_test)\n",
        "\n",
        "con_mat = confusion_matrix(y_test, y_pred)\n",
        "print('Confusion Matrix:')\n",
        "print(format(con_mat))\n",
        "\n",
        "accuracy = accuracy_score(y_test, y_pred)\n",
        "print('Accuracy: {} %'.format(accuracy*100))\n",
        "\n",
        "plt.scatter(x_train[:, 0], x_train[:, 1], c=y_train, s=50, cmap='viridis')\n",
        "my_center = kmeans.cluster_centers_\n",
        "my_label = kmeans.labels_\n",
        "plt.scatter(my_center[:, 0], my_center[:, 1], c='black', s=200, alpha=0.5);"
      ],
      "execution_count": 0,
      "outputs": [
        {
          "output_type": "stream",
          "text": [
            "Confusion Matrix:\n",
            "[[528   9  25  98  12  86 235   1   6   0]\n",
            " [  3 862   2  77  11  16  28   0   1   0]\n",
            " [  5   3 320  10 282  56 320   0   4   0]\n",
            " [ 11 316   3 449  16  83 120   0   2   0]\n",
            " [  1  10 196 112 510  40 125   0   6   0]\n",
            " [  0   0   0   0   0 673  11 232   3  81]\n",
            " [103   9 145  84 185 113 347   1  13   0]\n",
            " [  0   0   0   0   0  82   0 868   0  50]\n",
            " [  0   1  55   9  11  64 215  68 576   1]\n",
            " [  0   0   1   2   1  35   8 111   1 841]]\n",
            "Accuracy: 59.74 %\n"
          ],
          "name": "stdout"
        },
        {
          "output_type": "display_data",
          "data": {
            "image/png": "[encoded data removed]",
            "text/plain": [
              "<Figure size 432x288 with 1 Axes>"
            ]
          },
          "metadata": {
            "tags": []
          }
        }
      ]
    },
    {
      "cell_type": "markdown",
      "metadata": {
        "id": "vVQc1OfQP3xW",
        "colab_type": "text"
      },
      "source": [
        "## Project - 3 - Part 2\n",
        "\n"
      ]
    },
    {
      "cell_type": "code",
      "metadata": {
        "id": "hPoWNO7uP2xw",
        "colab_type": "code",
        "outputId": "1c68d6df-f8a2-438c-dfb8-dba9d3b3962a",
        "colab": {
          "base_uri": "https://localhost:8080/",
          "height": 70
        }
      },
      "source": [
        "#Import the required files and data\n",
        "import tensorflow as tf\n",
        "import numpy as np\n",
        "import matplotlib.pyplot as plt\n",
        "import sklearn\n",
        "from sklearn.cluster import KMeans\n",
        "from sklearn.metrics import accuracy_score, normalized_mutual_info_score, adjusted_mutual_info_score\n",
        "from sklearn.metrics import confusion_matrix\n",
        "from time import time\n",
        "import os\n",
        "import keras\n",
        "import numpy as np\n",
        "import pandas as pd\n",
        "import keras.backend as K\n",
        "from keras import callbacks\n",
        "from keras.models import Model\n",
        "from keras.optimizers import SGD\n",
        "from keras.layers import Dense, Input\n",
        "from keras.initializers import VarianceScaling\n",
        "from keras.engine.topology import Layer, InputSpec\n",
        "\n",
        "(x_train, y_train), (x_test, y_test) = tf.keras.datasets.fashion_mnist.load_data()\n",
        "print(\"x_train shape:\", x_train.shape, \"y_train shape:\", y_train.shape)\n",
        "print(\"x_test shape:\", x_test.shape, \"y_test shape:\", y_test.shape)"
      ],
      "execution_count": 4,
      "outputs": [
        {
          "output_type": "stream",
          "text": [
            "Using TensorFlow backend.\n"
          ],
          "name": "stderr"
        },
        {
          "output_type": "stream",
          "text": [
            "x_train shape: (60000, 28, 28) y_train shape: (60000,)\n",
            "x_test shape: (10000, 28, 28) y_test shape: (10000,)\n"
          ],
          "name": "stdout"
        }
      ]
    },
    {
      "cell_type": "code",
      "metadata": {
        "id": "hT3FtSdIQeQV",
        "colab_type": "code",
        "outputId": "923931ec-b6e7-4c49-9c5f-2ed287885588",
        "colab": {
          "base_uri": "https://localhost:8080/",
          "height": 87
        }
      },
      "source": [
        "#checking the dimensions\n",
        "nsamples, nx, ny = x_train.shape\n",
        "x_train = x_train.reshape((nsamples,nx*ny))\n",
        "print(nsamples)\n",
        "print(x_train.shape)\n",
        "\n",
        "nsamples, nx, ny = x_test.shape\n",
        "x_test = x_test.reshape((nsamples,nx*ny))\n",
        "print(nsamples)\n",
        "print(x_test.shape)\n",
        "\n",
        "x_train = x_train/255\n",
        "x_test = x_test/255"
      ],
      "execution_count": 5,
      "outputs": [
        {
          "output_type": "stream",
          "text": [
            "60000\n",
            "(60000, 784)\n",
            "10000\n",
            "(10000, 784)\n"
          ],
          "name": "stdout"
        }
      ]
    },
    {
      "cell_type": "code",
      "metadata": {
        "id": "ECZqqGUPQoub",
        "colab_type": "code",
        "outputId": "83b3a831-9392-4d0f-b511-9030f8ca7ec5",
        "colab": {
          "base_uri": "https://localhost:8080/",
          "height": 581
        }
      },
      "source": [
        "#Mapping cluster to label\n",
        "for counter in range(len(y_train)):\n",
        "  print(y_train[counter],\" \",counter)\n",
        "  if counter == 30:\n",
        "    break"
      ],
      "execution_count": 0,
      "outputs": [
        {
          "output_type": "stream",
          "text": [
            "9   0\n",
            "0   1\n",
            "0   2\n",
            "3   3\n",
            "0   4\n",
            "2   5\n",
            "7   6\n",
            "2   7\n",
            "5   8\n",
            "5   9\n",
            "0   10\n",
            "9   11\n",
            "5   12\n",
            "5   13\n",
            "7   14\n",
            "9   15\n",
            "1   16\n",
            "0   17\n",
            "6   18\n",
            "4   19\n",
            "3   20\n",
            "1   21\n",
            "4   22\n",
            "8   23\n",
            "4   24\n",
            "3   25\n",
            "0   26\n",
            "2   27\n",
            "4   28\n",
            "4   29\n",
            "5   30\n"
          ],
          "name": "stdout"
        }
      ]
    },
    {
      "cell_type": "code",
      "metadata": {
        "id": "D8xZSpIyQse0",
        "colab_type": "code",
        "colab": {}
      },
      "source": [
        "cluster_array = [x_train[1], x_train[16], x_train[27], x_train[20], x_train[29], x_train[13], x_train[18], x_train[6], x_train[23], x_train[0]]"
      ],
      "execution_count": 0,
      "outputs": []
    },
    {
      "cell_type": "code",
      "metadata": {
        "id": "uK-lWvWfQxMU",
        "colab_type": "code",
        "outputId": "588735f0-bc6f-4093-cab3-28b9882e6673",
        "colab": {
          "base_uri": "https://localhost:8080/",
          "height": 146
        }
      },
      "source": [
        "#The Auto-Encoder Part:\n",
        "encoder_input = Input(shape=(784,))\n",
        "\n",
        "# \"encoder_model\" is encoded representation of the input\n",
        "encoder_model = Dense(500, activation='relu')(encoder_input)\n",
        "encoder_model = Dense(500, activation='relu')(encoder_model)\n",
        "encoder_model = Dense(2000, activation='relu')(encoder_model)\n",
        "encoder_model = Dense(10, activation='sigmoid')(encoder_model)\n",
        "\n",
        "# \"decoder_model\" is lossy reconstruction of the input\n",
        "decoder_model = Dense(2000, activation='relu')(encoder_model)\n",
        "decoder_model = Dense(500, activation='relu')(decoder_model)\n",
        "decoder_model = Dense(500, activation='relu')(decoder_model)\n",
        "decoder_model = Dense(784)(decoder_model)\n",
        "\n",
        "# this model maps an input to its reconstruction\n",
        "autoencoder = Model(encoder_input, decoder_model)"
      ],
      "execution_count": 0,
      "outputs": [
        {
          "output_type": "stream",
          "text": [
            "WARNING:tensorflow:From /usr/local/lib/python3.6/dist-packages/keras/backend/tensorflow_backend.py:66: The name tf.get_default_graph is deprecated. Please use tf.compat.v1.get_default_graph instead.\n",
            "\n",
            "WARNING:tensorflow:From /usr/local/lib/python3.6/dist-packages/keras/backend/tensorflow_backend.py:541: The name tf.placeholder is deprecated. Please use tf.compat.v1.placeholder instead.\n",
            "\n",
            "WARNING:tensorflow:From /usr/local/lib/python3.6/dist-packages/keras/backend/tensorflow_backend.py:4432: The name tf.random_uniform is deprecated. Please use tf.random.uniform instead.\n",
            "\n"
          ],
          "name": "stdout"
        }
      ]
    },
    {
      "cell_type": "code",
      "metadata": {
        "id": "03q_BGRPQ4e3",
        "colab_type": "code",
        "outputId": "dd4cfa74-9e9a-4147-abc0-cad09c83618b",
        "colab": {
          "base_uri": "https://localhost:8080/",
          "height": 490
        }
      },
      "source": [
        "autoencoder.summary()"
      ],
      "execution_count": 0,
      "outputs": [
        {
          "output_type": "stream",
          "text": [
            "Model: \"model_1\"\n",
            "_________________________________________________________________\n",
            "Layer (type)                 Output Shape              Param #   \n",
            "=================================================================\n",
            "input_1 (InputLayer)         (None, 784)               0         \n",
            "_________________________________________________________________\n",
            "dense_1 (Dense)              (None, 500)               392500    \n",
            "_________________________________________________________________\n",
            "dense_2 (Dense)              (None, 500)               250500    \n",
            "_________________________________________________________________\n",
            "dense_3 (Dense)              (None, 2000)              1002000   \n",
            "_________________________________________________________________\n",
            "dense_4 (Dense)              (None, 10)                20010     \n",
            "_________________________________________________________________\n",
            "dense_5 (Dense)              (None, 2000)              22000     \n",
            "_________________________________________________________________\n",
            "dense_6 (Dense)              (None, 500)               1000500   \n",
            "_________________________________________________________________\n",
            "dense_7 (Dense)              (None, 500)               250500    \n",
            "_________________________________________________________________\n",
            "dense_8 (Dense)              (None, 784)               392784    \n",
            "=================================================================\n",
            "Total params: 3,330,794\n",
            "Trainable params: 3,330,794\n",
            "Non-trainable params: 0\n",
            "_________________________________________________________________\n"
          ],
          "name": "stdout"
        }
      ]
    },
    {
      "cell_type": "code",
      "metadata": {
        "id": "NuiV_EKJQ6sb",
        "colab_type": "code",
        "colab": {}
      },
      "source": [
        "encoder = Model(encoder_input, encoder_model)"
      ],
      "execution_count": 0,
      "outputs": []
    },
    {
      "cell_type": "code",
      "metadata": {
        "id": "oviAeVxwQ9pl",
        "colab_type": "code",
        "outputId": "b4d07c30-1478-4a99-c8db-1038f45b049f",
        "colab": {
          "base_uri": "https://localhost:8080/",
          "height": 74
        }
      },
      "source": [
        "autoencoder.compile(optimizer='adam', loss='mse', metrics=['accuracy'])"
      ],
      "execution_count": 0,
      "outputs": [
        {
          "output_type": "stream",
          "text": [
            "WARNING:tensorflow:From /usr/local/lib/python3.6/dist-packages/keras/optimizers.py:793: The name tf.train.Optimizer is deprecated. Please use tf.compat.v1.train.Optimizer instead.\n",
            "\n"
          ],
          "name": "stdout"
        }
      ]
    },
    {
      "cell_type": "code",
      "metadata": {
        "id": "swweDCv1Q_4y",
        "colab_type": "code",
        "outputId": "ebe7fbff-8ab7-4b2d-d0f2-473de75b075f",
        "colab": {
          "base_uri": "https://localhost:8080/",
          "height": 1000
        }
      },
      "source": [
        "train_history = autoencoder.fit(x_train, x_train, epochs=150, verbose=1, batch_size=2048, validation_data=(x_test, x_test))"
      ],
      "execution_count": 0,
      "outputs": [
        {
          "output_type": "stream",
          "text": [
            "WARNING:tensorflow:From /usr/local/lib/python3.6/dist-packages/keras/backend/tensorflow_backend.py:1033: The name tf.assign_add is deprecated. Please use tf.compat.v1.assign_add instead.\n",
            "\n",
            "WARNING:tensorflow:From /usr/local/lib/python3.6/dist-packages/keras/backend/tensorflow_backend.py:1020: The name tf.assign is deprecated. Please use tf.compat.v1.assign instead.\n",
            "\n",
            "WARNING:tensorflow:From /usr/local/lib/python3.6/dist-packages/keras/backend/tensorflow_backend.py:3005: The name tf.Session is deprecated. Please use tf.compat.v1.Session instead.\n",
            "\n",
            "Train on 60000 samples, validate on 10000 samples\n",
            "Epoch 1/150\n",
            "WARNING:tensorflow:From /usr/local/lib/python3.6/dist-packages/keras/backend/tensorflow_backend.py:190: The name tf.get_default_session is deprecated. Please use tf.compat.v1.get_default_session instead.\n",
            "\n",
            "WARNING:tensorflow:From /usr/local/lib/python3.6/dist-packages/keras/backend/tensorflow_backend.py:197: The name tf.ConfigProto is deprecated. Please use tf.compat.v1.ConfigProto instead.\n",
            "\n",
            "WARNING:tensorflow:From /usr/local/lib/python3.6/dist-packages/keras/backend/tensorflow_backend.py:207: The name tf.global_variables is deprecated. Please use tf.compat.v1.global_variables instead.\n",
            "\n",
            "WARNING:tensorflow:From /usr/local/lib/python3.6/dist-packages/keras/backend/tensorflow_backend.py:216: The name tf.is_variable_initialized is deprecated. Please use tf.compat.v1.is_variable_initialized instead.\n",
            "\n",
            "WARNING:tensorflow:From /usr/local/lib/python3.6/dist-packages/keras/backend/tensorflow_backend.py:223: The name tf.variables_initializer is deprecated. Please use tf.compat.v1.variables_initializer instead.\n",
            "\n",
            "60000/60000 [==============================] - 6s 96us/step - loss: 0.0944 - acc: 0.0015 - val_loss: 0.0684 - val_acc: 6.0000e-04\n",
            "Epoch 2/150\n",
            "60000/60000 [==============================] - 1s 16us/step - loss: 0.0658 - acc: 0.0012 - val_loss: 0.0602 - val_acc: 0.0015\n",
            "Epoch 3/150\n",
            "60000/60000 [==============================] - 1s 16us/step - loss: 0.0537 - acc: 0.0068 - val_loss: 0.0462 - val_acc: 0.0160\n",
            "Epoch 4/150\n",
            "60000/60000 [==============================] - 1s 17us/step - loss: 0.0433 - acc: 0.0148 - val_loss: 0.0398 - val_acc: 0.0167\n",
            "Epoch 5/150\n",
            "60000/60000 [==============================] - 1s 17us/step - loss: 0.0386 - acc: 0.0153 - val_loss: 0.0391 - val_acc: 0.0095\n",
            "Epoch 6/150\n",
            "60000/60000 [==============================] - 1s 17us/step - loss: 0.0356 - acc: 0.0093 - val_loss: 0.0331 - val_acc: 0.0061\n",
            "Epoch 7/150\n",
            "60000/60000 [==============================] - 1s 17us/step - loss: 0.0320 - acc: 0.0092 - val_loss: 0.0305 - val_acc: 0.0095\n",
            "Epoch 8/150\n",
            "60000/60000 [==============================] - 1s 17us/step - loss: 0.0298 - acc: 0.0139 - val_loss: 0.0282 - val_acc: 0.0130\n",
            "Epoch 9/150\n",
            "60000/60000 [==============================] - 1s 17us/step - loss: 0.0273 - acc: 0.0131 - val_loss: 0.0264 - val_acc: 0.0124\n",
            "Epoch 10/150\n",
            "60000/60000 [==============================] - 1s 17us/step - loss: 0.0258 - acc: 0.0149 - val_loss: 0.0253 - val_acc: 0.0185\n",
            "Epoch 11/150\n",
            "60000/60000 [==============================] - 1s 17us/step - loss: 0.0250 - acc: 0.0151 - val_loss: 0.0244 - val_acc: 0.0155\n",
            "Epoch 12/150\n",
            "60000/60000 [==============================] - 1s 16us/step - loss: 0.0240 - acc: 0.0161 - val_loss: 0.0241 - val_acc: 0.0156\n",
            "Epoch 13/150\n",
            "60000/60000 [==============================] - 1s 16us/step - loss: 0.0233 - acc: 0.0163 - val_loss: 0.0231 - val_acc: 0.0158\n",
            "Epoch 14/150\n",
            "60000/60000 [==============================] - 1s 16us/step - loss: 0.0227 - acc: 0.0163 - val_loss: 0.0224 - val_acc: 0.0176\n",
            "Epoch 15/150\n",
            "60000/60000 [==============================] - 1s 16us/step - loss: 0.0220 - acc: 0.0173 - val_loss: 0.0217 - val_acc: 0.0166\n",
            "Epoch 16/150\n",
            "60000/60000 [==============================] - 1s 16us/step - loss: 0.0218 - acc: 0.0173 - val_loss: 0.0213 - val_acc: 0.0179\n",
            "Epoch 17/150\n",
            "60000/60000 [==============================] - 1s 16us/step - loss: 0.0208 - acc: 0.0179 - val_loss: 0.0207 - val_acc: 0.0199\n",
            "Epoch 18/150\n",
            "60000/60000 [==============================] - 1s 16us/step - loss: 0.0205 - acc: 0.0184 - val_loss: 0.0204 - val_acc: 0.0178\n",
            "Epoch 19/150\n",
            "60000/60000 [==============================] - 1s 16us/step - loss: 0.0199 - acc: 0.0183 - val_loss: 0.0222 - val_acc: 0.0166\n",
            "Epoch 20/150\n",
            "60000/60000 [==============================] - 1s 16us/step - loss: 0.0203 - acc: 0.0184 - val_loss: 0.0197 - val_acc: 0.0192\n",
            "Epoch 21/150\n",
            "60000/60000 [==============================] - 1s 16us/step - loss: 0.0193 - acc: 0.0186 - val_loss: 0.0196 - val_acc: 0.0170\n",
            "Epoch 22/150\n",
            "60000/60000 [==============================] - 1s 16us/step - loss: 0.0190 - acc: 0.0190 - val_loss: 0.0189 - val_acc: 0.0190\n",
            "Epoch 23/150\n",
            "60000/60000 [==============================] - 1s 16us/step - loss: 0.0195 - acc: 0.0186 - val_loss: 0.0191 - val_acc: 0.0210\n",
            "Epoch 24/150\n",
            "60000/60000 [==============================] - 1s 16us/step - loss: 0.0185 - acc: 0.0192 - val_loss: 0.0184 - val_acc: 0.0196\n",
            "Epoch 25/150\n",
            "60000/60000 [==============================] - 1s 16us/step - loss: 0.0181 - acc: 0.0188 - val_loss: 0.0193 - val_acc: 0.0213\n",
            "Epoch 26/150\n",
            "60000/60000 [==============================] - 1s 16us/step - loss: 0.0180 - acc: 0.0186 - val_loss: 0.0179 - val_acc: 0.0191\n",
            "Epoch 27/150\n",
            "60000/60000 [==============================] - 1s 16us/step - loss: 0.0177 - acc: 0.0187 - val_loss: 0.0177 - val_acc: 0.0183\n",
            "Epoch 28/150\n",
            "60000/60000 [==============================] - 1s 16us/step - loss: 0.0176 - acc: 0.0186 - val_loss: 0.0178 - val_acc: 0.0192\n",
            "Epoch 29/150\n",
            "60000/60000 [==============================] - 1s 16us/step - loss: 0.0173 - acc: 0.0197 - val_loss: 0.0171 - val_acc: 0.0195\n",
            "Epoch 30/150\n",
            "60000/60000 [==============================] - 1s 16us/step - loss: 0.0169 - acc: 0.0198 - val_loss: 0.0170 - val_acc: 0.0230\n",
            "Epoch 31/150\n",
            "60000/60000 [==============================] - 1s 16us/step - loss: 0.0169 - acc: 0.0194 - val_loss: 0.0174 - val_acc: 0.0213\n",
            "Epoch 32/150\n",
            "60000/60000 [==============================] - 1s 16us/step - loss: 0.0166 - acc: 0.0201 - val_loss: 0.0165 - val_acc: 0.0194\n",
            "Epoch 33/150\n",
            "60000/60000 [==============================] - 1s 16us/step - loss: 0.0165 - acc: 0.0199 - val_loss: 0.0165 - val_acc: 0.0221\n",
            "Epoch 34/150\n",
            "60000/60000 [==============================] - 1s 16us/step - loss: 0.0163 - acc: 0.0198 - val_loss: 0.0163 - val_acc: 0.0222\n",
            "Epoch 35/150\n",
            "60000/60000 [==============================] - 1s 16us/step - loss: 0.0161 - acc: 0.0199 - val_loss: 0.0162 - val_acc: 0.0221\n",
            "Epoch 36/150\n",
            "60000/60000 [==============================] - 1s 16us/step - loss: 0.0160 - acc: 0.0194 - val_loss: 0.0159 - val_acc: 0.0207\n",
            "Epoch 37/150\n",
            "60000/60000 [==============================] - 1s 16us/step - loss: 0.0158 - acc: 0.0202 - val_loss: 0.0159 - val_acc: 0.0216\n",
            "Epoch 38/150\n",
            "60000/60000 [==============================] - 1s 16us/step - loss: 0.0158 - acc: 0.0203 - val_loss: 0.0157 - val_acc: 0.0213\n",
            "Epoch 39/150\n",
            "60000/60000 [==============================] - 1s 16us/step - loss: 0.0155 - acc: 0.0204 - val_loss: 0.0158 - val_acc: 0.0198\n",
            "Epoch 40/150\n",
            "60000/60000 [==============================] - 1s 16us/step - loss: 0.0154 - acc: 0.0214 - val_loss: 0.0156 - val_acc: 0.0186\n",
            "Epoch 41/150\n",
            "60000/60000 [==============================] - 1s 16us/step - loss: 0.0154 - acc: 0.0213 - val_loss: 0.0155 - val_acc: 0.0239\n",
            "Epoch 42/150\n",
            "60000/60000 [==============================] - 1s 16us/step - loss: 0.0151 - acc: 0.0212 - val_loss: 0.0154 - val_acc: 0.0236\n",
            "Epoch 43/150\n",
            "60000/60000 [==============================] - 1s 16us/step - loss: 0.0153 - acc: 0.0214 - val_loss: 0.0153 - val_acc: 0.0246\n",
            "Epoch 44/150\n",
            "60000/60000 [==============================] - 1s 16us/step - loss: 0.0150 - acc: 0.0220 - val_loss: 0.0151 - val_acc: 0.0219\n",
            "Epoch 45/150\n",
            "60000/60000 [==============================] - 1s 16us/step - loss: 0.0149 - acc: 0.0214 - val_loss: 0.0150 - val_acc: 0.0211\n",
            "Epoch 46/150\n",
            "60000/60000 [==============================] - 1s 16us/step - loss: 0.0150 - acc: 0.0218 - val_loss: 0.0151 - val_acc: 0.0207\n",
            "Epoch 47/150\n",
            "60000/60000 [==============================] - 1s 16us/step - loss: 0.0147 - acc: 0.0224 - val_loss: 0.0150 - val_acc: 0.0217\n",
            "Epoch 48/150\n",
            "60000/60000 [==============================] - 1s 16us/step - loss: 0.0146 - acc: 0.0229 - val_loss: 0.0150 - val_acc: 0.0220\n",
            "Epoch 49/150\n",
            "60000/60000 [==============================] - 1s 16us/step - loss: 0.0147 - acc: 0.0223 - val_loss: 0.0147 - val_acc: 0.0219\n",
            "Epoch 50/150\n",
            "60000/60000 [==============================] - 1s 16us/step - loss: 0.0146 - acc: 0.0227 - val_loss: 0.0150 - val_acc: 0.0201\n",
            "Epoch 51/150\n",
            "60000/60000 [==============================] - 1s 16us/step - loss: 0.0145 - acc: 0.0235 - val_loss: 0.0147 - val_acc: 0.0237\n",
            "Epoch 52/150\n",
            "60000/60000 [==============================] - 1s 16us/step - loss: 0.0144 - acc: 0.0236 - val_loss: 0.0146 - val_acc: 0.0227\n",
            "Epoch 53/150\n",
            "60000/60000 [==============================] - 1s 16us/step - loss: 0.0146 - acc: 0.0234 - val_loss: 0.0147 - val_acc: 0.0211\n",
            "Epoch 54/150\n",
            "60000/60000 [==============================] - 1s 16us/step - loss: 0.0142 - acc: 0.0238 - val_loss: 0.0145 - val_acc: 0.0202\n",
            "Epoch 55/150\n",
            "60000/60000 [==============================] - 1s 16us/step - loss: 0.0141 - acc: 0.0242 - val_loss: 0.0145 - val_acc: 0.0210\n",
            "Epoch 56/150\n",
            "60000/60000 [==============================] - 1s 16us/step - loss: 0.0145 - acc: 0.0237 - val_loss: 0.0144 - val_acc: 0.0215\n",
            "Epoch 57/150\n",
            "60000/60000 [==============================] - 1s 16us/step - loss: 0.0140 - acc: 0.0248 - val_loss: 0.0143 - val_acc: 0.0217\n",
            "Epoch 58/150\n",
            "60000/60000 [==============================] - 1s 16us/step - loss: 0.0141 - acc: 0.0240 - val_loss: 0.0143 - val_acc: 0.0214\n",
            "Epoch 59/150\n",
            "60000/60000 [==============================] - 1s 16us/step - loss: 0.0140 - acc: 0.0247 - val_loss: 0.0144 - val_acc: 0.0247\n",
            "Epoch 60/150\n",
            "60000/60000 [==============================] - 1s 16us/step - loss: 0.0139 - acc: 0.0244 - val_loss: 0.0142 - val_acc: 0.0219\n",
            "Epoch 61/150\n",
            "60000/60000 [==============================] - 1s 16us/step - loss: 0.0140 - acc: 0.0249 - val_loss: 0.0143 - val_acc: 0.0227\n",
            "Epoch 62/150\n",
            "60000/60000 [==============================] - 1s 16us/step - loss: 0.0139 - acc: 0.0255 - val_loss: 0.0144 - val_acc: 0.0192\n",
            "Epoch 63/150\n",
            "60000/60000 [==============================] - 1s 16us/step - loss: 0.0138 - acc: 0.0258 - val_loss: 0.0141 - val_acc: 0.0247\n",
            "Epoch 64/150\n",
            "60000/60000 [==============================] - 1s 16us/step - loss: 0.0139 - acc: 0.0256 - val_loss: 0.0145 - val_acc: 0.0234\n",
            "Epoch 65/150\n",
            "60000/60000 [==============================] - 1s 16us/step - loss: 0.0139 - acc: 0.0258 - val_loss: 0.0147 - val_acc: 0.0219\n",
            "Epoch 66/150\n",
            "60000/60000 [==============================] - 1s 16us/step - loss: 0.0138 - acc: 0.0255 - val_loss: 0.0139 - val_acc: 0.0220\n",
            "Epoch 67/150\n",
            "60000/60000 [==============================] - 1s 16us/step - loss: 0.0136 - acc: 0.0265 - val_loss: 0.0139 - val_acc: 0.0238\n",
            "Epoch 68/150\n",
            "60000/60000 [==============================] - 1s 16us/step - loss: 0.0138 - acc: 0.0257 - val_loss: 0.0143 - val_acc: 0.0214\n",
            "Epoch 69/150\n",
            "60000/60000 [==============================] - 1s 16us/step - loss: 0.0136 - acc: 0.0258 - val_loss: 0.0139 - val_acc: 0.0221\n",
            "Epoch 70/150\n",
            "60000/60000 [==============================] - 1s 16us/step - loss: 0.0135 - acc: 0.0269 - val_loss: 0.0138 - val_acc: 0.0251\n",
            "Epoch 71/150\n",
            "60000/60000 [==============================] - 1s 16us/step - loss: 0.0136 - acc: 0.0263 - val_loss: 0.0140 - val_acc: 0.0253\n",
            "Epoch 72/150\n",
            "60000/60000 [==============================] - 1s 17us/step - loss: 0.0135 - acc: 0.0266 - val_loss: 0.0138 - val_acc: 0.0240\n",
            "Epoch 73/150\n",
            "60000/60000 [==============================] - 1s 16us/step - loss: 0.0134 - acc: 0.0273 - val_loss: 0.0139 - val_acc: 0.0223\n",
            "Epoch 74/150\n",
            "60000/60000 [==============================] - 1s 16us/step - loss: 0.0137 - acc: 0.0275 - val_loss: 0.0137 - val_acc: 0.0253\n",
            "Epoch 75/150\n",
            "60000/60000 [==============================] - 1s 16us/step - loss: 0.0133 - acc: 0.0276 - val_loss: 0.0138 - val_acc: 0.0219\n",
            "Epoch 76/150\n",
            "60000/60000 [==============================] - 1s 16us/step - loss: 0.0134 - acc: 0.0278 - val_loss: 0.0136 - val_acc: 0.0239\n",
            "Epoch 77/150\n",
            "60000/60000 [==============================] - 1s 16us/step - loss: 0.0133 - acc: 0.0280 - val_loss: 0.0140 - val_acc: 0.0240\n",
            "Epoch 78/150\n",
            "60000/60000 [==============================] - 1s 16us/step - loss: 0.0136 - acc: 0.0276 - val_loss: 0.0137 - val_acc: 0.0270\n",
            "Epoch 79/150\n",
            "60000/60000 [==============================] - 1s 16us/step - loss: 0.0132 - acc: 0.0280 - val_loss: 0.0136 - val_acc: 0.0233\n",
            "Epoch 80/150\n",
            "60000/60000 [==============================] - 1s 16us/step - loss: 0.0132 - acc: 0.0279 - val_loss: 0.0135 - val_acc: 0.0245\n",
            "Epoch 81/150\n",
            "60000/60000 [==============================] - 1s 16us/step - loss: 0.0132 - acc: 0.0284 - val_loss: 0.0137 - val_acc: 0.0259\n",
            "Epoch 82/150\n",
            "60000/60000 [==============================] - 1s 16us/step - loss: 0.0133 - acc: 0.0280 - val_loss: 0.0135 - val_acc: 0.0252\n",
            "Epoch 83/150\n",
            "60000/60000 [==============================] - 1s 16us/step - loss: 0.0132 - acc: 0.0292 - val_loss: 0.0134 - val_acc: 0.0246\n",
            "Epoch 84/150\n",
            "60000/60000 [==============================] - 1s 16us/step - loss: 0.0131 - acc: 0.0290 - val_loss: 0.0134 - val_acc: 0.0265\n",
            "Epoch 85/150\n",
            "60000/60000 [==============================] - 1s 16us/step - loss: 0.0132 - acc: 0.0292 - val_loss: 0.0135 - val_acc: 0.0258\n",
            "Epoch 86/150\n",
            "60000/60000 [==============================] - 1s 16us/step - loss: 0.0131 - acc: 0.0296 - val_loss: 0.0136 - val_acc: 0.0262\n",
            "Epoch 87/150\n",
            "60000/60000 [==============================] - 1s 16us/step - loss: 0.0130 - acc: 0.0289 - val_loss: 0.0134 - val_acc: 0.0264\n",
            "Epoch 88/150\n",
            "60000/60000 [==============================] - 1s 16us/step - loss: 0.0131 - acc: 0.0297 - val_loss: 0.0134 - val_acc: 0.0258\n",
            "Epoch 89/150\n",
            "60000/60000 [==============================] - 1s 16us/step - loss: 0.0130 - acc: 0.0296 - val_loss: 0.0135 - val_acc: 0.0298\n",
            "Epoch 90/150\n",
            "60000/60000 [==============================] - 1s 16us/step - loss: 0.0129 - acc: 0.0299 - val_loss: 0.0133 - val_acc: 0.0261\n",
            "Epoch 91/150\n",
            "60000/60000 [==============================] - 1s 16us/step - loss: 0.0130 - acc: 0.0304 - val_loss: 0.0133 - val_acc: 0.0266\n",
            "Epoch 92/150\n",
            "60000/60000 [==============================] - 1s 16us/step - loss: 0.0129 - acc: 0.0296 - val_loss: 0.0133 - val_acc: 0.0269\n",
            "Epoch 93/150\n",
            "60000/60000 [==============================] - 1s 16us/step - loss: 0.0130 - acc: 0.0300 - val_loss: 0.0136 - val_acc: 0.0283\n",
            "Epoch 94/150\n",
            "60000/60000 [==============================] - 1s 16us/step - loss: 0.0129 - acc: 0.0298 - val_loss: 0.0134 - val_acc: 0.0285\n",
            "Epoch 95/150\n",
            "60000/60000 [==============================] - 1s 16us/step - loss: 0.0129 - acc: 0.0303 - val_loss: 0.0132 - val_acc: 0.0258\n",
            "Epoch 96/150\n",
            "60000/60000 [==============================] - 1s 16us/step - loss: 0.0130 - acc: 0.0306 - val_loss: 0.0133 - val_acc: 0.0251\n",
            "Epoch 97/150\n",
            "60000/60000 [==============================] - 1s 16us/step - loss: 0.0128 - acc: 0.0310 - val_loss: 0.0132 - val_acc: 0.0291\n",
            "Epoch 98/150\n",
            "60000/60000 [==============================] - 1s 17us/step - loss: 0.0127 - acc: 0.0301 - val_loss: 0.0132 - val_acc: 0.0254\n",
            "Epoch 99/150\n",
            "60000/60000 [==============================] - 1s 16us/step - loss: 0.0130 - acc: 0.0318 - val_loss: 0.0132 - val_acc: 0.0269\n",
            "Epoch 100/150\n",
            "60000/60000 [==============================] - 1s 16us/step - loss: 0.0127 - acc: 0.0309 - val_loss: 0.0131 - val_acc: 0.0266\n",
            "Epoch 101/150\n",
            "60000/60000 [==============================] - 1s 16us/step - loss: 0.0129 - acc: 0.0312 - val_loss: 0.0131 - val_acc: 0.0263\n",
            "Epoch 102/150\n",
            "60000/60000 [==============================] - 1s 16us/step - loss: 0.0126 - acc: 0.0311 - val_loss: 0.0131 - val_acc: 0.0272\n",
            "Epoch 103/150\n",
            "60000/60000 [==============================] - 1s 16us/step - loss: 0.0127 - acc: 0.0312 - val_loss: 0.0131 - val_acc: 0.0260\n",
            "Epoch 104/150\n",
            "60000/60000 [==============================] - 1s 16us/step - loss: 0.0127 - acc: 0.0319 - val_loss: 0.0131 - val_acc: 0.0277\n",
            "Epoch 105/150\n",
            "60000/60000 [==============================] - 1s 16us/step - loss: 0.0127 - acc: 0.0318 - val_loss: 0.0130 - val_acc: 0.0281\n",
            "Epoch 106/150\n",
            "60000/60000 [==============================] - 1s 16us/step - loss: 0.0126 - acc: 0.0320 - val_loss: 0.0133 - val_acc: 0.0295\n",
            "Epoch 107/150\n",
            "60000/60000 [==============================] - 1s 16us/step - loss: 0.0126 - acc: 0.0313 - val_loss: 0.0130 - val_acc: 0.0270\n",
            "Epoch 108/150\n",
            "60000/60000 [==============================] - 1s 16us/step - loss: 0.0127 - acc: 0.0308 - val_loss: 0.0130 - val_acc: 0.0252\n",
            "Epoch 109/150\n",
            "60000/60000 [==============================] - 1s 16us/step - loss: 0.0125 - acc: 0.0319 - val_loss: 0.0130 - val_acc: 0.0310\n",
            "Epoch 110/150\n",
            "60000/60000 [==============================] - 1s 16us/step - loss: 0.0126 - acc: 0.0315 - val_loss: 0.0131 - val_acc: 0.0273\n",
            "Epoch 111/150\n",
            "60000/60000 [==============================] - 1s 16us/step - loss: 0.0125 - acc: 0.0323 - val_loss: 0.0129 - val_acc: 0.0286\n",
            "Epoch 112/150\n",
            "60000/60000 [==============================] - 1s 16us/step - loss: 0.0125 - acc: 0.0318 - val_loss: 0.0131 - val_acc: 0.0280\n",
            "Epoch 113/150\n",
            "60000/60000 [==============================] - 1s 16us/step - loss: 0.0125 - acc: 0.0329 - val_loss: 0.0129 - val_acc: 0.0267\n",
            "Epoch 114/150\n",
            "60000/60000 [==============================] - 1s 16us/step - loss: 0.0126 - acc: 0.0324 - val_loss: 0.0129 - val_acc: 0.0303\n",
            "Epoch 115/150\n",
            "60000/60000 [==============================] - 1s 17us/step - loss: 0.0124 - acc: 0.0325 - val_loss: 0.0129 - val_acc: 0.0273\n",
            "Epoch 116/150\n",
            "60000/60000 [==============================] - 1s 16us/step - loss: 0.0126 - acc: 0.0327 - val_loss: 0.0129 - val_acc: 0.0260\n",
            "Epoch 117/150\n",
            "60000/60000 [==============================] - 1s 16us/step - loss: 0.0123 - acc: 0.0332 - val_loss: 0.0128 - val_acc: 0.0291\n",
            "Epoch 118/150\n",
            "60000/60000 [==============================] - 1s 17us/step - loss: 0.0124 - acc: 0.0332 - val_loss: 0.0132 - val_acc: 0.0262\n",
            "Epoch 119/150\n",
            "60000/60000 [==============================] - 1s 16us/step - loss: 0.0125 - acc: 0.0321 - val_loss: 0.0128 - val_acc: 0.0278\n",
            "Epoch 120/150\n",
            "60000/60000 [==============================] - 1s 17us/step - loss: 0.0123 - acc: 0.0330 - val_loss: 0.0128 - val_acc: 0.0268\n",
            "Epoch 121/150\n",
            "60000/60000 [==============================] - 1s 17us/step - loss: 0.0125 - acc: 0.0337 - val_loss: 0.0128 - val_acc: 0.0290\n",
            "Epoch 122/150\n",
            "60000/60000 [==============================] - 1s 17us/step - loss: 0.0122 - acc: 0.0332 - val_loss: 0.0127 - val_acc: 0.0281\n",
            "Epoch 123/150\n",
            "60000/60000 [==============================] - 1s 16us/step - loss: 0.0123 - acc: 0.0336 - val_loss: 0.0130 - val_acc: 0.0282\n",
            "Epoch 124/150\n",
            "60000/60000 [==============================] - 1s 16us/step - loss: 0.0123 - acc: 0.0333 - val_loss: 0.0127 - val_acc: 0.0273\n",
            "Epoch 125/150\n",
            "60000/60000 [==============================] - 1s 16us/step - loss: 0.0123 - acc: 0.0330 - val_loss: 0.0127 - val_acc: 0.0282\n",
            "Epoch 126/150\n",
            "60000/60000 [==============================] - 1s 16us/step - loss: 0.0123 - acc: 0.0329 - val_loss: 0.0128 - val_acc: 0.0296\n",
            "Epoch 127/150\n",
            "60000/60000 [==============================] - 1s 16us/step - loss: 0.0121 - acc: 0.0334 - val_loss: 0.0127 - val_acc: 0.0267\n",
            "Epoch 128/150\n",
            "60000/60000 [==============================] - 1s 16us/step - loss: 0.0123 - acc: 0.0337 - val_loss: 0.0129 - val_acc: 0.0273\n",
            "Epoch 129/150\n",
            "60000/60000 [==============================] - 1s 16us/step - loss: 0.0122 - acc: 0.0344 - val_loss: 0.0128 - val_acc: 0.0306\n",
            "Epoch 130/150\n",
            "60000/60000 [==============================] - 1s 16us/step - loss: 0.0122 - acc: 0.0341 - val_loss: 0.0131 - val_acc: 0.0333\n",
            "Epoch 131/150\n",
            "60000/60000 [==============================] - 1s 16us/step - loss: 0.0122 - acc: 0.0346 - val_loss: 0.0126 - val_acc: 0.0297\n",
            "Epoch 132/150\n",
            "60000/60000 [==============================] - 1s 16us/step - loss: 0.0121 - acc: 0.0342 - val_loss: 0.0127 - val_acc: 0.0303\n",
            "Epoch 133/150\n",
            "60000/60000 [==============================] - 1s 16us/step - loss: 0.0123 - acc: 0.0342 - val_loss: 0.0128 - val_acc: 0.0279\n",
            "Epoch 134/150\n",
            "60000/60000 [==============================] - 1s 17us/step - loss: 0.0121 - acc: 0.0346 - val_loss: 0.0127 - val_acc: 0.0309\n",
            "Epoch 135/150\n",
            "60000/60000 [==============================] - 1s 16us/step - loss: 0.0121 - acc: 0.0342 - val_loss: 0.0129 - val_acc: 0.0324\n",
            "Epoch 136/150\n",
            "60000/60000 [==============================] - 1s 16us/step - loss: 0.0121 - acc: 0.0345 - val_loss: 0.0126 - val_acc: 0.0307\n",
            "Epoch 137/150\n",
            "60000/60000 [==============================] - 1s 16us/step - loss: 0.0120 - acc: 0.0346 - val_loss: 0.0126 - val_acc: 0.0295\n",
            "Epoch 138/150\n",
            "60000/60000 [==============================] - 1s 17us/step - loss: 0.0121 - acc: 0.0351 - val_loss: 0.0127 - val_acc: 0.0281\n",
            "Epoch 139/150\n",
            "60000/60000 [==============================] - 1s 16us/step - loss: 0.0120 - acc: 0.0346 - val_loss: 0.0126 - val_acc: 0.0296\n",
            "Epoch 140/150\n",
            "60000/60000 [==============================] - 1s 16us/step - loss: 0.0121 - acc: 0.0355 - val_loss: 0.0128 - val_acc: 0.0282\n",
            "Epoch 141/150\n",
            "60000/60000 [==============================] - 1s 16us/step - loss: 0.0120 - acc: 0.0351 - val_loss: 0.0126 - val_acc: 0.0331\n",
            "Epoch 142/150\n",
            "60000/60000 [==============================] - 1s 16us/step - loss: 0.0120 - acc: 0.0351 - val_loss: 0.0127 - val_acc: 0.0338\n",
            "Epoch 143/150\n",
            "60000/60000 [==============================] - 1s 16us/step - loss: 0.0120 - acc: 0.0356 - val_loss: 0.0126 - val_acc: 0.0288\n",
            "Epoch 144/150\n",
            "60000/60000 [==============================] - 1s 16us/step - loss: 0.0120 - acc: 0.0348 - val_loss: 0.0125 - val_acc: 0.0295\n",
            "Epoch 145/150\n",
            "60000/60000 [==============================] - 1s 16us/step - loss: 0.0120 - acc: 0.0356 - val_loss: 0.0125 - val_acc: 0.0288\n",
            "Epoch 146/150\n",
            "60000/60000 [==============================] - 1s 16us/step - loss: 0.0119 - acc: 0.0355 - val_loss: 0.0126 - val_acc: 0.0295\n",
            "Epoch 147/150\n",
            "60000/60000 [==============================] - 1s 16us/step - loss: 0.0120 - acc: 0.0355 - val_loss: 0.0128 - val_acc: 0.0256\n",
            "Epoch 148/150\n",
            "60000/60000 [==============================] - 1s 16us/step - loss: 0.0119 - acc: 0.0360 - val_loss: 0.0125 - val_acc: 0.0290\n",
            "Epoch 149/150\n",
            "60000/60000 [==============================] - 1s 17us/step - loss: 0.0119 - acc: 0.0352 - val_loss: 0.0135 - val_acc: 0.0322\n",
            "Epoch 150/150\n",
            "60000/60000 [==============================] - 1s 16us/step - loss: 0.0120 - acc: 0.0361 - val_loss: 0.0126 - val_acc: 0.0307\n"
          ],
          "name": "stdout"
        }
      ]
    },
    {
      "cell_type": "code",
      "metadata": {
        "id": "toLyJCOXRDWn",
        "colab_type": "code",
        "colab": {}
      },
      "source": [
        "pred_auto_train = encoder.predict(x_train)\n",
        "encoder.compile(optimizer='adam', loss='mse', metrics=['accuracy'])\n",
        "cluster_pred_array = [pred_auto_train[1], pred_auto_train[16], pred_auto_train[27], pred_auto_train[20], pred_auto_train[29], pred_auto_train[13], pred_auto_train[18], pred_auto_train[6], pred_auto_train[23], pred_auto_train[0]]"
      ],
      "execution_count": 0,
      "outputs": []
    },
    {
      "cell_type": "code",
      "metadata": {
        "id": "4yoIX6QXRGER",
        "colab_type": "code",
        "outputId": "7d59900b-1954-4e61-cc46-54a0a60d283e",
        "colab": {
          "base_uri": "https://localhost:8080/",
          "height": 292
        }
      },
      "source": [
        "km = KMeans(n_clusters=10, init = np.array(cluster_pred_array))\n",
        "pred_auto = encoder.predict(x_test)\n",
        "km.fit(pred_auto_train)\n",
        "y_pred = km.predict(pred_auto)\n",
        "\n",
        "confusion_mat = confusion_matrix(y_test, y_pred)\n",
        "print('Confusion Matrix:')\n",
        "print(format(confusion_mat))\n",
        "\n",
        "accuracy = accuracy_score(y_test, y_pred)\n",
        "print('Accuracy: {} %'.format(accuracy*100))"
      ],
      "execution_count": 0,
      "outputs": [
        {
          "output_type": "stream",
          "text": [
            "/usr/local/lib/python3.6/dist-packages/sklearn/cluster/k_means_.py:972: RuntimeWarning: Explicit initial center position passed: performing only one init in k-means instead of n_init=10\n",
            "  return_n_iter=True)\n"
          ],
          "name": "stderr"
        },
        {
          "output_type": "stream",
          "text": [
            "Confusion Matrix:\n",
            "[[750   9  53 118   6   1  52   2   9   0]\n",
            " [ 22 883  17  69   5   0   4   0   0   0]\n",
            " [  9   1 485  14  90   0 397   0   4   0]\n",
            " [ 23  79  33 819   9   0  36   0   1   0]\n",
            " [  0   8 259 114 292   0 325   0   2   0]\n",
            " [  0   0   2   2   1 386   1 555  26  27]\n",
            " [207   7 288 103  46   0 328   2  19   0]\n",
            " [  0   0   0   0   0   1   0 945  16  38]\n",
            " [  1   9  42  23 412   4  54  19 432   4]\n",
            " [  0   0   1   1   1  35   1 149  22 790]]\n",
            "Accuracy: 61.1 %\n"
          ],
          "name": "stdout"
        }
      ]
    },
    {
      "cell_type": "code",
      "metadata": {
        "colab_type": "code",
        "outputId": "b74fc520-36db-4b86-9b48-109e01e8abe7",
        "id": "ncnA_xYk3e8V",
        "colab": {
          "base_uri": "https://localhost:8080/",
          "height": 297
        }
      },
      "source": [
        "plt.plot(train_history.history['loss'])\n",
        "plt.xlabel('Epochs')\n",
        "plt.ylabel('Training Loss')"
      ],
      "execution_count": 0,
      "outputs": [
        {
          "output_type": "execute_result",
          "data": {
            "text/plain": [
              "Text(0, 0.5, 'Training Loss')"
            ]
          },
          "metadata": {
            "tags": []
          },
          "execution_count": 14
        },
        {
          "output_type": "display_data",
          "data": {
            "image/png": "[encoded data removed]",
            "text/plain": [
              "<Figure size 432x288 with 1 Axes>"
            ]
          },
          "metadata": {
            "tags": []
          }
        }
      ]
    },
    {
      "cell_type": "code",
      "metadata": {
        "id": "u3HWoXUESQG2",
        "colab_type": "code",
        "outputId": "4c685a82-e69b-441e-8952-ee27458d71af",
        "colab": {
          "base_uri": "https://localhost:8080/",
          "height": 297
        }
      },
      "source": [
        "plt.plot(train_history.history['val_loss'])\n",
        "plt.xlabel('Epochs')\n",
        "plt.ylabel('Validation Loss')"
      ],
      "execution_count": 0,
      "outputs": [
        {
          "output_type": "execute_result",
          "data": {
            "text/plain": [
              "Text(0, 0.5, 'Validation Loss')"
            ]
          },
          "metadata": {
            "tags": []
          },
          "execution_count": 15
        },
        {
          "output_type": "display_data",
          "data": {
            "image/png": "[encoded data removed]",
            "text/plain": [
              "<Figure size 432x288 with 1 Axes>"
            ]
          },
          "metadata": {
            "tags": []
          }
        }
      ]
    },
    {
      "cell_type": "code",
      "metadata": {
        "id": "eAuYFbbhSYJx",
        "colab_type": "code",
        "outputId": "b9d4e2aa-0199-44cd-f377-8fc97e46a75d",
        "colab": {
          "base_uri": "https://localhost:8080/",
          "height": 297
        }
      },
      "source": [
        "plt.plot(train_history.history['acc'])\n",
        "plt.xlabel('Epochs')\n",
        "plt.ylabel('Training Accuracy')"
      ],
      "execution_count": 0,
      "outputs": [
        {
          "output_type": "execute_result",
          "data": {
            "text/plain": [
              "Text(0, 0.5, 'Training Accuracy')"
            ]
          },
          "metadata": {
            "tags": []
          },
          "execution_count": 16
        },
        {
          "output_type": "display_data",
          "data": {
            "image/png": "[encoded data removed]",
            "text/plain": [
              "<Figure size 432x288 with 1 Axes>"
            ]
          },
          "metadata": {
            "tags": []
          }
        }
      ]
    },
    {
      "cell_type": "code",
      "metadata": {
        "id": "K0G6WJCcSip4",
        "colab_type": "code",
        "outputId": "79342c41-5f42-45e9-a08c-85247b3b0c87",
        "colab": {
          "base_uri": "https://localhost:8080/",
          "height": 299
        }
      },
      "source": [
        "plt.plot(train_history.history['val_acc'])\n",
        "plt.xlabel('Epochs')\n",
        "plt.ylabel('Validation Accuracy')"
      ],
      "execution_count": 0,
      "outputs": [
        {
          "output_type": "execute_result",
          "data": {
            "text/plain": [
              "Text(0, 0.5, 'Validation Accuracy')"
            ]
          },
          "metadata": {
            "tags": []
          },
          "execution_count": 17
        },
        {
          "output_type": "display_data",
          "data": {
            "image/png": "[encoded data removed]",
            "text/plain": [
              "<Figure size 432x288 with 1 Axes>"
            ]
          },
          "metadata": {
            "tags": []
          }
        }
      ]
    },
    {
      "cell_type": "markdown",
      "metadata": {
        "id": "KN-sgTVppGYU",
        "colab_type": "text"
      },
      "source": [
        "## Project - 3 - Part 3"
      ]
    },
    {
      "cell_type": "code",
      "metadata": {
        "colab_type": "code",
        "outputId": "4170c283-c7ea-461f-82d4-90877a818993",
        "id": "rtfTESF23_iN",
        "colab": {
          "base_uri": "https://localhost:8080/",
          "height": 52
        }
      },
      "source": [
        "#Necessary Imports\n",
        "import tensorflow as tf\n",
        "import numpy as np\n",
        "import matplotlib.pyplot as plt\n",
        "import sklearn\n",
        "import os\n",
        "import keras\n",
        "import numpy as np\n",
        "import pandas as pd\n",
        "import keras.backend as K\n",
        "\n",
        "from time import time\n",
        "from keras import callbacks\n",
        "from keras.models import Model\n",
        "from keras.optimizers import SGD\n",
        "from keras.layers import Dense, Input\n",
        "from keras.initializers import VarianceScaling\n",
        "from keras.engine.topology import Layer, InputSpec\n",
        "\n",
        "from sklearn.cluster import KMeans\n",
        "from sklearn.metrics import accuracy_score, normalized_mutual_info_score, adjusted_mutual_info_score\n",
        "from sklearn.metrics import confusion_matrix\n",
        "from sklearn.mixture import GaussianMixture\n",
        "\n",
        "(x_train, y_train), (x_test, y_test) = tf.keras.datasets.fashion_mnist.load_data()\n",
        "print(\"x_train shape:\", x_train.shape, \"y_train shape:\", y_train.shape)\n",
        "print(\"x_test shape:\", x_test.shape, \"y_test shape:\", y_test.shape)"
      ],
      "execution_count": 6,
      "outputs": [
        {
          "output_type": "stream",
          "text": [
            "x_train shape: (60000, 28, 28) y_train shape: (60000,)\n",
            "x_test shape: (10000, 28, 28) y_test shape: (10000,)\n"
          ],
          "name": "stdout"
        }
      ]
    },
    {
      "cell_type": "code",
      "metadata": {
        "id": "KxbUtmmspgb5",
        "colab_type": "code",
        "outputId": "dbe7a8e7-f04c-46cf-e1c1-5170f811576f",
        "colab": {
          "base_uri": "https://localhost:8080/",
          "height": 87
        }
      },
      "source": [
        "nsamples, nx, ny = x_train.shape\n",
        "x_train = x_train.reshape((nsamples,nx*ny))\n",
        "print(nsamples)\n",
        "print(x_train.shape)\n",
        "\n",
        "nsamples, nx, ny = x_test.shape\n",
        "x_test = x_test.reshape((nsamples,nx*ny))\n",
        "print(nsamples) \n",
        "print(x_train.shape)\n",
        "\n",
        "x_train = x_train/255\n",
        "x_test = x_test/255"
      ],
      "execution_count": 7,
      "outputs": [
        {
          "output_type": "stream",
          "text": [
            "60000\n",
            "(60000, 784)\n",
            "10000\n",
            "(60000, 784)\n"
          ],
          "name": "stdout"
        }
      ]
    },
    {
      "cell_type": "code",
      "metadata": {
        "id": "nWoZuxn9ppRR",
        "colab_type": "code",
        "outputId": "89c8d9c3-c3c6-41fb-f317-8a8c8f08437d",
        "colab": {
          "base_uri": "https://localhost:8080/",
          "height": 581
        }
      },
      "source": [
        "for counter in range(len(y_train)):\n",
        "  print(y_train[counter],\" \",counter)\n",
        "  if counter == 30:\n",
        "    break"
      ],
      "execution_count": 0,
      "outputs": [
        {
          "output_type": "stream",
          "text": [
            "9   0\n",
            "0   1\n",
            "0   2\n",
            "3   3\n",
            "0   4\n",
            "2   5\n",
            "7   6\n",
            "2   7\n",
            "5   8\n",
            "5   9\n",
            "0   10\n",
            "9   11\n",
            "5   12\n",
            "5   13\n",
            "7   14\n",
            "9   15\n",
            "1   16\n",
            "0   17\n",
            "6   18\n",
            "4   19\n",
            "3   20\n",
            "1   21\n",
            "4   22\n",
            "8   23\n",
            "4   24\n",
            "3   25\n",
            "0   26\n",
            "2   27\n",
            "4   28\n",
            "4   29\n",
            "5   30\n"
          ],
          "name": "stdout"
        }
      ]
    },
    {
      "cell_type": "code",
      "metadata": {
        "id": "I3kXneRCptyI",
        "colab_type": "code",
        "colab": {}
      },
      "source": [
        "cluster_array = [x_train[1], x_train[16], x_train[27], x_train[20], x_train[29], x_train[13], x_train[18], x_train[6], x_train[23], x_train[0]]"
      ],
      "execution_count": 0,
      "outputs": []
    },
    {
      "cell_type": "code",
      "metadata": {
        "id": "N6uPKDiDqIUE",
        "colab_type": "code",
        "colab": {}
      },
      "source": [
        "#The Auto - Encoder Part\n",
        "\n",
        "encoder_input = Input(shape=(784,))\n",
        "\n",
        "# \"encoder_model\" is encoded representation of the input\n",
        "encoder_model = Dense(500, activation='relu')(encoder_input)\n",
        "encoder_model = Dense(500, activation='relu')(encoder_model)\n",
        "encoder_model = Dense(2000, activation='relu')(encoder_model)\n",
        "encoder_model = Dense(10, activation='sigmoid')(encoder_model)\n",
        "\n",
        "# \"decoder_model\" is lossy reconstruction of the input\n",
        "decoder_model = Dense(2000, activation='relu')(encoder_model)\n",
        "decoder_model = Dense(500, activation='relu')(decoder_model)\n",
        "decoder_model = Dense(500, activation='relu')(decoder_model)\n",
        "decoder_model = Dense(784)(decoder_model)\n",
        "\n",
        "# this model maps an input to its reconstruction\n",
        "autoencoder = Model(encoder_input, decoder_model)"
      ],
      "execution_count": 0,
      "outputs": []
    },
    {
      "cell_type": "code",
      "metadata": {
        "id": "qzEFa3B9qxxf",
        "colab_type": "code",
        "outputId": "4ba38e3f-993a-4e85-8bd8-054a325eed36",
        "colab": {
          "base_uri": "https://localhost:8080/",
          "height": 490
        }
      },
      "source": [
        "autoencoder.summary()"
      ],
      "execution_count": 0,
      "outputs": [
        {
          "output_type": "stream",
          "text": [
            "Model: \"model_3\"\n",
            "_________________________________________________________________\n",
            "Layer (type)                 Output Shape              Param #   \n",
            "=================================================================\n",
            "input_2 (InputLayer)         (None, 784)               0         \n",
            "_________________________________________________________________\n",
            "dense_9 (Dense)              (None, 500)               392500    \n",
            "_________________________________________________________________\n",
            "dense_10 (Dense)             (None, 500)               250500    \n",
            "_________________________________________________________________\n",
            "dense_11 (Dense)             (None, 2000)              1002000   \n",
            "_________________________________________________________________\n",
            "dense_12 (Dense)             (None, 10)                20010     \n",
            "_________________________________________________________________\n",
            "dense_13 (Dense)             (None, 2000)              22000     \n",
            "_________________________________________________________________\n",
            "dense_14 (Dense)             (None, 500)               1000500   \n",
            "_________________________________________________________________\n",
            "dense_15 (Dense)             (None, 500)               250500    \n",
            "_________________________________________________________________\n",
            "dense_16 (Dense)             (None, 784)               392784    \n",
            "=================================================================\n",
            "Total params: 3,330,794\n",
            "Trainable params: 3,330,794\n",
            "Non-trainable params: 0\n",
            "_________________________________________________________________\n"
          ],
          "name": "stdout"
        }
      ]
    },
    {
      "cell_type": "code",
      "metadata": {
        "id": "ZopD9Ym5q0lc",
        "colab_type": "code",
        "colab": {}
      },
      "source": [
        "encoder = Model(encoder_input, encoder_model)"
      ],
      "execution_count": 0,
      "outputs": []
    },
    {
      "cell_type": "code",
      "metadata": {
        "id": "2Q-Rz1Wvq30N",
        "colab_type": "code",
        "colab": {}
      },
      "source": [
        "autoencoder.compile(optimizer='adam', loss='mse', metrics=['accuracy'])"
      ],
      "execution_count": 0,
      "outputs": []
    },
    {
      "cell_type": "code",
      "metadata": {
        "id": "gCoU-el4q9tB",
        "colab_type": "code",
        "outputId": "479005f5-54ac-40d8-d97f-5f59eba4250e",
        "colab": {
          "base_uri": "https://localhost:8080/",
          "height": 1000
        }
      },
      "source": [
        "train_history = autoencoder.fit(x_train, x_train, epochs=150, verbose=1, batch_size=2048, validation_data=(x_test, x_test))"
      ],
      "execution_count": 0,
      "outputs": [
        {
          "output_type": "stream",
          "text": [
            "Train on 60000 samples, validate on 10000 samples\n",
            "Epoch 1/150\n",
            "60000/60000 [==============================] - 3s 45us/step - loss: 0.0958 - acc: 0.0018 - val_loss: 0.0703 - val_acc: 0.0014\n",
            "Epoch 2/150\n",
            "60000/60000 [==============================] - 2s 32us/step - loss: 0.0682 - acc: 0.0012 - val_loss: 0.0664 - val_acc: 0.0012\n",
            "Epoch 3/150\n",
            "60000/60000 [==============================] - 2s 32us/step - loss: 0.0613 - acc: 0.0011 - val_loss: 0.0534 - val_acc: 0.0014\n",
            "Epoch 4/150\n",
            "60000/60000 [==============================] - 2s 31us/step - loss: 0.0454 - acc: 0.0118 - val_loss: 0.0410 - val_acc: 0.0189\n",
            "Epoch 5/150\n",
            "60000/60000 [==============================] - 2s 32us/step - loss: 0.0388 - acc: 0.0168 - val_loss: 0.0367 - val_acc: 0.0134\n",
            "Epoch 6/150\n",
            "60000/60000 [==============================] - 2s 32us/step - loss: 0.0358 - acc: 0.0070 - val_loss: 0.0339 - val_acc: 0.0054\n",
            "Epoch 7/150\n",
            "60000/60000 [==============================] - 2s 32us/step - loss: 0.0323 - acc: 0.0112 - val_loss: 0.0307 - val_acc: 0.0158\n",
            "Epoch 8/150\n",
            "60000/60000 [==============================] - 2s 32us/step - loss: 0.0302 - acc: 0.0136 - val_loss: 0.0286 - val_acc: 0.0132\n",
            "Epoch 9/150\n",
            "60000/60000 [==============================] - 2s 32us/step - loss: 0.0273 - acc: 0.0105 - val_loss: 0.0261 - val_acc: 0.0086\n",
            "Epoch 10/150\n",
            "60000/60000 [==============================] - 2s 32us/step - loss: 0.0253 - acc: 0.0096 - val_loss: 0.0247 - val_acc: 0.0105\n",
            "Epoch 11/150\n",
            "60000/60000 [==============================] - 2s 32us/step - loss: 0.0248 - acc: 0.0116 - val_loss: 0.0240 - val_acc: 0.0138\n",
            "Epoch 12/150\n",
            "60000/60000 [==============================] - 2s 31us/step - loss: 0.0234 - acc: 0.0138 - val_loss: 0.0251 - val_acc: 0.0203\n",
            "Epoch 13/150\n",
            "60000/60000 [==============================] - 2s 31us/step - loss: 0.0230 - acc: 0.0150 - val_loss: 0.0223 - val_acc: 0.0170\n",
            "Epoch 14/150\n",
            "60000/60000 [==============================] - 2s 31us/step - loss: 0.0218 - acc: 0.0162 - val_loss: 0.0216 - val_acc: 0.0175\n",
            "Epoch 15/150\n",
            "60000/60000 [==============================] - 2s 31us/step - loss: 0.0217 - acc: 0.0165 - val_loss: 0.0210 - val_acc: 0.0169\n",
            "Epoch 16/150\n",
            "60000/60000 [==============================] - 2s 32us/step - loss: 0.0206 - acc: 0.0164 - val_loss: 0.0206 - val_acc: 0.0151\n",
            "Epoch 17/150\n",
            "60000/60000 [==============================] - 2s 31us/step - loss: 0.0207 - acc: 0.0164 - val_loss: 0.0202 - val_acc: 0.0163\n",
            "Epoch 18/150\n",
            "60000/60000 [==============================] - 2s 31us/step - loss: 0.0198 - acc: 0.0166 - val_loss: 0.0197 - val_acc: 0.0139\n",
            "Epoch 19/150\n",
            "60000/60000 [==============================] - 2s 31us/step - loss: 0.0195 - acc: 0.0171 - val_loss: 0.0195 - val_acc: 0.0180\n",
            "Epoch 20/150\n",
            "60000/60000 [==============================] - 2s 31us/step - loss: 0.0192 - acc: 0.0178 - val_loss: 0.0190 - val_acc: 0.0192\n",
            "Epoch 21/150\n",
            "60000/60000 [==============================] - 2s 31us/step - loss: 0.0192 - acc: 0.0186 - val_loss: 0.0187 - val_acc: 0.0218\n",
            "Epoch 22/150\n",
            "60000/60000 [==============================] - 2s 31us/step - loss: 0.0187 - acc: 0.0186 - val_loss: 0.0182 - val_acc: 0.0175\n",
            "Epoch 23/150\n",
            "60000/60000 [==============================] - 2s 31us/step - loss: 0.0179 - acc: 0.0185 - val_loss: 0.0180 - val_acc: 0.0184\n",
            "Epoch 24/150\n",
            "60000/60000 [==============================] - 2s 31us/step - loss: 0.0176 - acc: 0.0180 - val_loss: 0.0177 - val_acc: 0.0176\n",
            "Epoch 25/150\n",
            "60000/60000 [==============================] - 2s 31us/step - loss: 0.0176 - acc: 0.0180 - val_loss: 0.0174 - val_acc: 0.0185\n",
            "Epoch 26/150\n",
            "60000/60000 [==============================] - 2s 31us/step - loss: 0.0171 - acc: 0.0185 - val_loss: 0.0171 - val_acc: 0.0171\n",
            "Epoch 27/150\n",
            "60000/60000 [==============================] - 2s 31us/step - loss: 0.0175 - acc: 0.0179 - val_loss: 0.0171 - val_acc: 0.0199\n",
            "Epoch 28/150\n",
            "60000/60000 [==============================] - 2s 30us/step - loss: 0.0167 - acc: 0.0194 - val_loss: 0.0167 - val_acc: 0.0189\n",
            "Epoch 29/150\n",
            "60000/60000 [==============================] - 2s 31us/step - loss: 0.0166 - acc: 0.0191 - val_loss: 0.0165 - val_acc: 0.0203\n",
            "Epoch 30/150\n",
            "60000/60000 [==============================] - 2s 31us/step - loss: 0.0163 - acc: 0.0195 - val_loss: 0.0163 - val_acc: 0.0219\n",
            "Epoch 31/150\n",
            "60000/60000 [==============================] - 2s 31us/step - loss: 0.0163 - acc: 0.0196 - val_loss: 0.0164 - val_acc: 0.0206\n",
            "Epoch 32/150\n",
            "60000/60000 [==============================] - 2s 31us/step - loss: 0.0160 - acc: 0.0195 - val_loss: 0.0160 - val_acc: 0.0206\n",
            "Epoch 33/150\n",
            "60000/60000 [==============================] - 2s 31us/step - loss: 0.0158 - acc: 0.0201 - val_loss: 0.0160 - val_acc: 0.0205\n",
            "Epoch 34/150\n",
            "60000/60000 [==============================] - 2s 31us/step - loss: 0.0158 - acc: 0.0208 - val_loss: 0.0158 - val_acc: 0.0229\n",
            "Epoch 35/150\n",
            "60000/60000 [==============================] - 2s 31us/step - loss: 0.0156 - acc: 0.0211 - val_loss: 0.0159 - val_acc: 0.0228\n",
            "Epoch 36/150\n",
            "60000/60000 [==============================] - 2s 30us/step - loss: 0.0155 - acc: 0.0213 - val_loss: 0.0170 - val_acc: 0.0231\n",
            "Epoch 37/150\n",
            "60000/60000 [==============================] - 2s 31us/step - loss: 0.0157 - acc: 0.0212 - val_loss: 0.0155 - val_acc: 0.0226\n",
            "Epoch 38/150\n",
            "60000/60000 [==============================] - 2s 31us/step - loss: 0.0153 - acc: 0.0227 - val_loss: 0.0153 - val_acc: 0.0228\n",
            "Epoch 39/150\n",
            "60000/60000 [==============================] - 2s 31us/step - loss: 0.0151 - acc: 0.0228 - val_loss: 0.0153 - val_acc: 0.0219\n",
            "Epoch 40/150\n",
            "60000/60000 [==============================] - 2s 31us/step - loss: 0.0151 - acc: 0.0227 - val_loss: 0.0152 - val_acc: 0.0226\n",
            "Epoch 41/150\n",
            "60000/60000 [==============================] - 2s 31us/step - loss: 0.0150 - acc: 0.0236 - val_loss: 0.0155 - val_acc: 0.0254\n",
            "Epoch 42/150\n",
            "60000/60000 [==============================] - 2s 31us/step - loss: 0.0151 - acc: 0.0240 - val_loss: 0.0150 - val_acc: 0.0223\n",
            "Epoch 43/150\n",
            "60000/60000 [==============================] - 2s 31us/step - loss: 0.0148 - acc: 0.0241 - val_loss: 0.0150 - val_acc: 0.0236\n",
            "Epoch 44/150\n",
            "60000/60000 [==============================] - 2s 31us/step - loss: 0.0147 - acc: 0.0253 - val_loss: 0.0148 - val_acc: 0.0245\n",
            "Epoch 45/150\n",
            "60000/60000 [==============================] - 2s 31us/step - loss: 0.0149 - acc: 0.0247 - val_loss: 0.0148 - val_acc: 0.0255\n",
            "Epoch 46/150\n",
            "60000/60000 [==============================] - 2s 30us/step - loss: 0.0145 - acc: 0.0248 - val_loss: 0.0147 - val_acc: 0.0232\n",
            "Epoch 47/150\n",
            "60000/60000 [==============================] - 2s 30us/step - loss: 0.0146 - acc: 0.0257 - val_loss: 0.0150 - val_acc: 0.0270\n",
            "Epoch 48/150\n",
            "60000/60000 [==============================] - 2s 30us/step - loss: 0.0144 - acc: 0.0263 - val_loss: 0.0146 - val_acc: 0.0255\n",
            "Epoch 49/150\n",
            "60000/60000 [==============================] - 2s 30us/step - loss: 0.0144 - acc: 0.0263 - val_loss: 0.0161 - val_acc: 0.0274\n",
            "Epoch 50/150\n",
            "60000/60000 [==============================] - 2s 30us/step - loss: 0.0144 - acc: 0.0260 - val_loss: 0.0144 - val_acc: 0.0263\n",
            "Epoch 51/150\n",
            "60000/60000 [==============================] - 2s 31us/step - loss: 0.0142 - acc: 0.0266 - val_loss: 0.0146 - val_acc: 0.0247\n",
            "Epoch 52/150\n",
            "60000/60000 [==============================] - 2s 30us/step - loss: 0.0142 - acc: 0.0269 - val_loss: 0.0151 - val_acc: 0.0274\n",
            "Epoch 53/150\n",
            "60000/60000 [==============================] - 2s 30us/step - loss: 0.0142 - acc: 0.0279 - val_loss: 0.0143 - val_acc: 0.0261\n",
            "Epoch 54/150\n",
            "60000/60000 [==============================] - 2s 30us/step - loss: 0.0140 - acc: 0.0280 - val_loss: 0.0144 - val_acc: 0.0242\n",
            "Epoch 55/150\n",
            "60000/60000 [==============================] - 2s 30us/step - loss: 0.0140 - acc: 0.0283 - val_loss: 0.0151 - val_acc: 0.0304\n",
            "Epoch 56/150\n",
            "60000/60000 [==============================] - 2s 30us/step - loss: 0.0141 - acc: 0.0286 - val_loss: 0.0141 - val_acc: 0.0236\n",
            "Epoch 57/150\n",
            "60000/60000 [==============================] - 2s 30us/step - loss: 0.0139 - acc: 0.0279 - val_loss: 0.0141 - val_acc: 0.0302\n",
            "Epoch 58/150\n",
            "60000/60000 [==============================] - 2s 30us/step - loss: 0.0137 - acc: 0.0292 - val_loss: 0.0142 - val_acc: 0.0274\n",
            "Epoch 59/150\n",
            "60000/60000 [==============================] - 2s 30us/step - loss: 0.0138 - acc: 0.0286 - val_loss: 0.0140 - val_acc: 0.0272\n",
            "Epoch 60/150\n",
            "60000/60000 [==============================] - 2s 30us/step - loss: 0.0137 - acc: 0.0295 - val_loss: 0.0141 - val_acc: 0.0271\n",
            "Epoch 61/150\n",
            "60000/60000 [==============================] - 2s 30us/step - loss: 0.0136 - acc: 0.0290 - val_loss: 0.0139 - val_acc: 0.0281\n",
            "Epoch 62/150\n",
            "60000/60000 [==============================] - 2s 30us/step - loss: 0.0139 - acc: 0.0288 - val_loss: 0.0139 - val_acc: 0.0267\n",
            "Epoch 63/150\n",
            "60000/60000 [==============================] - 2s 30us/step - loss: 0.0135 - acc: 0.0304 - val_loss: 0.0140 - val_acc: 0.0263\n",
            "Epoch 64/150\n",
            "60000/60000 [==============================] - 2s 30us/step - loss: 0.0135 - acc: 0.0298 - val_loss: 0.0138 - val_acc: 0.0290\n",
            "Epoch 65/150\n",
            "60000/60000 [==============================] - 2s 30us/step - loss: 0.0135 - acc: 0.0303 - val_loss: 0.0139 - val_acc: 0.0278\n",
            "Epoch 66/150\n",
            "60000/60000 [==============================] - 2s 30us/step - loss: 0.0134 - acc: 0.0308 - val_loss: 0.0139 - val_acc: 0.0261\n",
            "Epoch 67/150\n",
            "60000/60000 [==============================] - 2s 29us/step - loss: 0.0134 - acc: 0.0315 - val_loss: 0.0137 - val_acc: 0.0279\n",
            "Epoch 68/150\n",
            "60000/60000 [==============================] - 2s 30us/step - loss: 0.0135 - acc: 0.0306 - val_loss: 0.0140 - val_acc: 0.0284\n",
            "Epoch 69/150\n",
            "60000/60000 [==============================] - 2s 30us/step - loss: 0.0133 - acc: 0.0317 - val_loss: 0.0136 - val_acc: 0.0294\n",
            "Epoch 70/150\n",
            "60000/60000 [==============================] - 2s 30us/step - loss: 0.0132 - acc: 0.0317 - val_loss: 0.0141 - val_acc: 0.0315\n",
            "Epoch 71/150\n",
            "60000/60000 [==============================] - 2s 30us/step - loss: 0.0133 - acc: 0.0320 - val_loss: 0.0135 - val_acc: 0.0291\n",
            "Epoch 72/150\n",
            "60000/60000 [==============================] - 2s 30us/step - loss: 0.0132 - acc: 0.0316 - val_loss: 0.0135 - val_acc: 0.0272\n",
            "Epoch 73/150\n",
            "60000/60000 [==============================] - 2s 30us/step - loss: 0.0134 - acc: 0.0322 - val_loss: 0.0136 - val_acc: 0.0247\n",
            "Epoch 74/150\n",
            "60000/60000 [==============================] - 2s 30us/step - loss: 0.0131 - acc: 0.0321 - val_loss: 0.0134 - val_acc: 0.0284\n",
            "Epoch 75/150\n",
            "60000/60000 [==============================] - 2s 29us/step - loss: 0.0133 - acc: 0.0324 - val_loss: 0.0135 - val_acc: 0.0295\n",
            "Epoch 76/150\n",
            "60000/60000 [==============================] - 2s 29us/step - loss: 0.0130 - acc: 0.0323 - val_loss: 0.0134 - val_acc: 0.0294\n",
            "Epoch 77/150\n",
            "60000/60000 [==============================] - 2s 29us/step - loss: 0.0130 - acc: 0.0335 - val_loss: 0.0133 - val_acc: 0.0317\n",
            "Epoch 78/150\n",
            "60000/60000 [==============================] - 2s 29us/step - loss: 0.0131 - acc: 0.0327 - val_loss: 0.0133 - val_acc: 0.0282\n",
            "Epoch 79/150\n",
            "60000/60000 [==============================] - 2s 29us/step - loss: 0.0130 - acc: 0.0324 - val_loss: 0.0133 - val_acc: 0.0308\n",
            "Epoch 80/150\n",
            "60000/60000 [==============================] - 2s 29us/step - loss: 0.0129 - acc: 0.0332 - val_loss: 0.0133 - val_acc: 0.0284\n",
            "Epoch 81/150\n",
            "60000/60000 [==============================] - 2s 29us/step - loss: 0.0130 - acc: 0.0328 - val_loss: 0.0133 - val_acc: 0.0308\n",
            "Epoch 82/150\n",
            "60000/60000 [==============================] - 2s 29us/step - loss: 0.0129 - acc: 0.0327 - val_loss: 0.0134 - val_acc: 0.0304\n",
            "Epoch 83/150\n",
            "60000/60000 [==============================] - 2s 29us/step - loss: 0.0129 - acc: 0.0329 - val_loss: 0.0133 - val_acc: 0.0321\n",
            "Epoch 84/150\n",
            "60000/60000 [==============================] - 2s 29us/step - loss: 0.0128 - acc: 0.0341 - val_loss: 0.0132 - val_acc: 0.0324\n",
            "Epoch 85/150\n",
            "60000/60000 [==============================] - 2s 29us/step - loss: 0.0129 - acc: 0.0338 - val_loss: 0.0133 - val_acc: 0.0311\n",
            "Epoch 86/150\n",
            "60000/60000 [==============================] - 2s 29us/step - loss: 0.0128 - acc: 0.0339 - val_loss: 0.0131 - val_acc: 0.0308\n",
            "Epoch 87/150\n",
            "60000/60000 [==============================] - 2s 29us/step - loss: 0.0127 - acc: 0.0339 - val_loss: 0.0135 - val_acc: 0.0313\n",
            "Epoch 88/150\n",
            "60000/60000 [==============================] - 2s 29us/step - loss: 0.0128 - acc: 0.0336 - val_loss: 0.0131 - val_acc: 0.0318\n",
            "Epoch 89/150\n",
            "60000/60000 [==============================] - 2s 29us/step - loss: 0.0127 - acc: 0.0345 - val_loss: 0.0131 - val_acc: 0.0305\n",
            "Epoch 90/150\n",
            "60000/60000 [==============================] - 2s 29us/step - loss: 0.0128 - acc: 0.0345 - val_loss: 0.0131 - val_acc: 0.0303\n",
            "Epoch 91/150\n",
            "60000/60000 [==============================] - 2s 29us/step - loss: 0.0126 - acc: 0.0343 - val_loss: 0.0130 - val_acc: 0.0293\n",
            "Epoch 92/150\n",
            "60000/60000 [==============================] - 2s 29us/step - loss: 0.0127 - acc: 0.0345 - val_loss: 0.0131 - val_acc: 0.0308\n",
            "Epoch 93/150\n",
            "60000/60000 [==============================] - 2s 29us/step - loss: 0.0125 - acc: 0.0342 - val_loss: 0.0131 - val_acc: 0.0297\n",
            "Epoch 94/150\n",
            "60000/60000 [==============================] - 2s 29us/step - loss: 0.0126 - acc: 0.0346 - val_loss: 0.0131 - val_acc: 0.0315\n",
            "Epoch 95/150\n",
            "60000/60000 [==============================] - 2s 28us/step - loss: 0.0126 - acc: 0.0343 - val_loss: 0.0133 - val_acc: 0.0300\n",
            "Epoch 96/150\n",
            "60000/60000 [==============================] - 2s 29us/step - loss: 0.0125 - acc: 0.0345 - val_loss: 0.0129 - val_acc: 0.0306\n",
            "Epoch 97/150\n",
            "60000/60000 [==============================] - 2s 29us/step - loss: 0.0125 - acc: 0.0344 - val_loss: 0.0129 - val_acc: 0.0316\n",
            "Epoch 98/150\n",
            "60000/60000 [==============================] - 2s 29us/step - loss: 0.0125 - acc: 0.0342 - val_loss: 0.0135 - val_acc: 0.0320\n",
            "Epoch 99/150\n",
            "60000/60000 [==============================] - 2s 29us/step - loss: 0.0125 - acc: 0.0340 - val_loss: 0.0129 - val_acc: 0.0331\n",
            "Epoch 100/150\n",
            "60000/60000 [==============================] - 2s 29us/step - loss: 0.0124 - acc: 0.0338 - val_loss: 0.0130 - val_acc: 0.0319\n",
            "Epoch 101/150\n",
            "60000/60000 [==============================] - 2s 29us/step - loss: 0.0124 - acc: 0.0350 - val_loss: 0.0128 - val_acc: 0.0331\n",
            "Epoch 102/150\n",
            "60000/60000 [==============================] - 2s 28us/step - loss: 0.0125 - acc: 0.0349 - val_loss: 0.0132 - val_acc: 0.0302\n",
            "Epoch 103/150\n",
            "60000/60000 [==============================] - 2s 29us/step - loss: 0.0125 - acc: 0.0346 - val_loss: 0.0128 - val_acc: 0.0331\n",
            "Epoch 104/150\n",
            "60000/60000 [==============================] - 2s 29us/step - loss: 0.0123 - acc: 0.0345 - val_loss: 0.0129 - val_acc: 0.0318\n",
            "Epoch 105/150\n",
            "60000/60000 [==============================] - 2s 29us/step - loss: 0.0123 - acc: 0.0347 - val_loss: 0.0128 - val_acc: 0.0346\n",
            "Epoch 106/150\n",
            "60000/60000 [==============================] - 2s 29us/step - loss: 0.0122 - acc: 0.0355 - val_loss: 0.0130 - val_acc: 0.0339\n",
            "Epoch 107/150\n",
            "60000/60000 [==============================] - 2s 29us/step - loss: 0.0126 - acc: 0.0353 - val_loss: 0.0128 - val_acc: 0.0326\n",
            "Epoch 108/150\n",
            "60000/60000 [==============================] - 2s 29us/step - loss: 0.0122 - acc: 0.0351 - val_loss: 0.0128 - val_acc: 0.0356\n",
            "Epoch 109/150\n",
            "60000/60000 [==============================] - 2s 29us/step - loss: 0.0122 - acc: 0.0351 - val_loss: 0.0127 - val_acc: 0.0322\n",
            "Epoch 110/150\n",
            "60000/60000 [==============================] - 2s 29us/step - loss: 0.0122 - acc: 0.0347 - val_loss: 0.0128 - val_acc: 0.0326\n",
            "Epoch 111/150\n",
            "60000/60000 [==============================] - 2s 29us/step - loss: 0.0122 - acc: 0.0348 - val_loss: 0.0127 - val_acc: 0.0315\n",
            "Epoch 112/150\n",
            "60000/60000 [==============================] - 2s 28us/step - loss: 0.0122 - acc: 0.0343 - val_loss: 0.0127 - val_acc: 0.0341\n",
            "Epoch 113/150\n",
            "60000/60000 [==============================] - 2s 29us/step - loss: 0.0122 - acc: 0.0350 - val_loss: 0.0128 - val_acc: 0.0318\n",
            "Epoch 114/150\n",
            "60000/60000 [==============================] - 2s 29us/step - loss: 0.0122 - acc: 0.0346 - val_loss: 0.0128 - val_acc: 0.0334\n",
            "Epoch 115/150\n",
            "60000/60000 [==============================] - 2s 29us/step - loss: 0.0122 - acc: 0.0351 - val_loss: 0.0127 - val_acc: 0.0341\n",
            "Epoch 116/150\n",
            "60000/60000 [==============================] - 2s 29us/step - loss: 0.0120 - acc: 0.0354 - val_loss: 0.0127 - val_acc: 0.0329\n",
            "Epoch 117/150\n",
            "60000/60000 [==============================] - 2s 29us/step - loss: 0.0122 - acc: 0.0353 - val_loss: 0.0127 - val_acc: 0.0342\n",
            "Epoch 118/150\n",
            "60000/60000 [==============================] - 2s 29us/step - loss: 0.0120 - acc: 0.0357 - val_loss: 0.0126 - val_acc: 0.0318\n",
            "Epoch 119/150\n",
            "60000/60000 [==============================] - 2s 29us/step - loss: 0.0122 - acc: 0.0351 - val_loss: 0.0127 - val_acc: 0.0325\n",
            "Epoch 120/150\n",
            "60000/60000 [==============================] - 2s 29us/step - loss: 0.0120 - acc: 0.0351 - val_loss: 0.0126 - val_acc: 0.0338\n",
            "Epoch 121/150\n",
            "60000/60000 [==============================] - 2s 29us/step - loss: 0.0121 - acc: 0.0353 - val_loss: 0.0128 - val_acc: 0.0326\n",
            "Epoch 122/150\n",
            "60000/60000 [==============================] - 2s 29us/step - loss: 0.0120 - acc: 0.0349 - val_loss: 0.0126 - val_acc: 0.0319\n",
            "Epoch 123/150\n",
            "60000/60000 [==============================] - 2s 29us/step - loss: 0.0120 - acc: 0.0350 - val_loss: 0.0126 - val_acc: 0.0343\n",
            "Epoch 124/150\n",
            "60000/60000 [==============================] - 2s 29us/step - loss: 0.0120 - acc: 0.0357 - val_loss: 0.0127 - val_acc: 0.0351\n",
            "Epoch 125/150\n",
            "60000/60000 [==============================] - 2s 29us/step - loss: 0.0119 - acc: 0.0354 - val_loss: 0.0125 - val_acc: 0.0327\n",
            "Epoch 126/150\n",
            "60000/60000 [==============================] - 2s 29us/step - loss: 0.0120 - acc: 0.0351 - val_loss: 0.0126 - val_acc: 0.0337\n",
            "Epoch 127/150\n",
            "60000/60000 [==============================] - 2s 29us/step - loss: 0.0119 - acc: 0.0354 - val_loss: 0.0125 - val_acc: 0.0346\n",
            "Epoch 128/150\n",
            "60000/60000 [==============================] - 2s 29us/step - loss: 0.0119 - acc: 0.0348 - val_loss: 0.0125 - val_acc: 0.0330\n",
            "Epoch 129/150\n",
            "60000/60000 [==============================] - 2s 29us/step - loss: 0.0120 - acc: 0.0357 - val_loss: 0.0127 - val_acc: 0.0335\n",
            "Epoch 130/150\n",
            "60000/60000 [==============================] - 2s 29us/step - loss: 0.0119 - acc: 0.0360 - val_loss: 0.0125 - val_acc: 0.0311\n",
            "Epoch 131/150\n",
            "60000/60000 [==============================] - 2s 29us/step - loss: 0.0118 - acc: 0.0359 - val_loss: 0.0125 - val_acc: 0.0344\n",
            "Epoch 132/150\n",
            "60000/60000 [==============================] - 2s 29us/step - loss: 0.0119 - acc: 0.0356 - val_loss: 0.0126 - val_acc: 0.0334\n",
            "Epoch 133/150\n",
            "60000/60000 [==============================] - 2s 29us/step - loss: 0.0118 - acc: 0.0360 - val_loss: 0.0124 - val_acc: 0.0323\n",
            "Epoch 134/150\n",
            "60000/60000 [==============================] - 2s 29us/step - loss: 0.0121 - acc: 0.0354 - val_loss: 0.0125 - val_acc: 0.0322\n",
            "Epoch 135/150\n",
            "60000/60000 [==============================] - 2s 29us/step - loss: 0.0118 - acc: 0.0359 - val_loss: 0.0123 - val_acc: 0.0340\n",
            "Epoch 136/150\n",
            "60000/60000 [==============================] - 2s 29us/step - loss: 0.0117 - acc: 0.0359 - val_loss: 0.0123 - val_acc: 0.0326\n",
            "Epoch 137/150\n",
            "60000/60000 [==============================] - 2s 29us/step - loss: 0.0119 - acc: 0.0360 - val_loss: 0.0129 - val_acc: 0.0327\n",
            "Epoch 138/150\n",
            "60000/60000 [==============================] - 2s 29us/step - loss: 0.0118 - acc: 0.0366 - val_loss: 0.0124 - val_acc: 0.0374\n",
            "Epoch 139/150\n",
            "60000/60000 [==============================] - 2s 29us/step - loss: 0.0117 - acc: 0.0353 - val_loss: 0.0124 - val_acc: 0.0310\n",
            "Epoch 140/150\n",
            "60000/60000 [==============================] - 2s 29us/step - loss: 0.0122 - acc: 0.0352 - val_loss: 0.0125 - val_acc: 0.0330\n",
            "Epoch 141/150\n",
            "60000/60000 [==============================] - 2s 29us/step - loss: 0.0117 - acc: 0.0368 - val_loss: 0.0123 - val_acc: 0.0367\n",
            "Epoch 142/150\n",
            "60000/60000 [==============================] - 2s 29us/step - loss: 0.0116 - acc: 0.0360 - val_loss: 0.0123 - val_acc: 0.0341\n",
            "Epoch 143/150\n",
            "60000/60000 [==============================] - 2s 29us/step - loss: 0.0117 - acc: 0.0365 - val_loss: 0.0124 - val_acc: 0.0345\n",
            "Epoch 144/150\n",
            "60000/60000 [==============================] - 2s 29us/step - loss: 0.0117 - acc: 0.0357 - val_loss: 0.0130 - val_acc: 0.0352\n",
            "Epoch 145/150\n",
            "60000/60000 [==============================] - 2s 29us/step - loss: 0.0118 - acc: 0.0361 - val_loss: 0.0123 - val_acc: 0.0335\n",
            "Epoch 146/150\n",
            "60000/60000 [==============================] - 2s 29us/step - loss: 0.0116 - acc: 0.0370 - val_loss: 0.0123 - val_acc: 0.0343\n",
            "Epoch 147/150\n",
            "60000/60000 [==============================] - 2s 29us/step - loss: 0.0116 - acc: 0.0363 - val_loss: 0.0124 - val_acc: 0.0327\n",
            "Epoch 148/150\n",
            "60000/60000 [==============================] - 2s 29us/step - loss: 0.0116 - acc: 0.0374 - val_loss: 0.0123 - val_acc: 0.0346\n",
            "Epoch 149/150\n",
            "60000/60000 [==============================] - 2s 29us/step - loss: 0.0117 - acc: 0.0362 - val_loss: 0.0124 - val_acc: 0.0361\n",
            "Epoch 150/150\n",
            "60000/60000 [==============================] - 2s 29us/step - loss: 0.0116 - acc: 0.0363 - val_loss: 0.0123 - val_acc: 0.0330\n"
          ],
          "name": "stdout"
        }
      ]
    },
    {
      "cell_type": "code",
      "metadata": {
        "id": "NZDNwqWfrUCk",
        "colab_type": "code",
        "colab": {}
      },
      "source": [
        "pred_auto_train = encoder.predict(x_train)\n",
        "encoder.compile(optimizer='adam', loss='mse', metrics=['accuracy'])\n",
        "cluster_pred_array = [pred_auto_train[1], pred_auto_train[16], pred_auto_train[27], pred_auto_train[20], pred_auto_train[29], pred_auto_train[13], pred_auto_train[18], pred_auto_train[6], pred_auto_train[23], pred_auto_train[0]]"
      ],
      "execution_count": 0,
      "outputs": []
    },
    {
      "cell_type": "code",
      "metadata": {
        "id": "TlmQi0aWr4M5",
        "colab_type": "code",
        "outputId": "a1ea4de2-77bf-406a-d0d5-b3d0ab6f4d57",
        "colab": {
          "base_uri": "https://localhost:8080/",
          "height": 74
        }
      },
      "source": [
        "km = KMeans(n_clusters=10, init = np.array(cluster_pred_array))\n",
        "pred_auto = encoder.predict(x_test)\n",
        "km.fit(pred_auto_train)\n",
        "y_pred = km.predict(pred_auto)"
      ],
      "execution_count": 0,
      "outputs": [
        {
          "output_type": "stream",
          "text": [
            "/usr/local/lib/python3.6/dist-packages/sklearn/cluster/k_means_.py:972: RuntimeWarning: Explicit initial center position passed: performing only one init in k-means instead of n_init=10\n",
            "  return_n_iter=True)\n"
          ],
          "name": "stderr"
        }
      ]
    },
    {
      "cell_type": "code",
      "metadata": {
        "id": "kgdYOcOMr-O1",
        "colab_type": "code",
        "colab": {}
      },
      "source": [
        "#THE GMM IMPLEMENTATION:\n",
        "gmm = GaussianMixture(n_components = 10, n_init=1, means_init=cluster_pred_array)\n",
        "k_means_gmm = gmm.fit(pred_auto_train)\n",
        "\n",
        "y_gmm_train = k_means_gmm.predict(pred_auto_train)\n",
        "y_gmm_test = k_means_gmm.predict(pred_auto)"
      ],
      "execution_count": 0,
      "outputs": []
    },
    {
      "cell_type": "code",
      "metadata": {
        "id": "-B8Q8hdPsFaU",
        "colab_type": "code",
        "outputId": "14fa43df-79e7-4d5c-9a18-b7dc5b3a062e",
        "colab": {
          "base_uri": "https://localhost:8080/",
          "height": 254
        }
      },
      "source": [
        "con_mat = confusion_matrix(y_test, y_gmm_test)\n",
        "print('Confusion Matrix:')\n",
        "print(format(con_mat))\n",
        "\n",
        "accuracy = accuracy_score(y_train, y_gmm_train)\n",
        "print('Training Accuracy: {} %'.format(accuracy*100))\n",
        "\n",
        "accuracy = accuracy_score(y_test, y_gmm_test)\n",
        "print('Testing Accuracy: {} %'.format(accuracy*100))"
      ],
      "execution_count": 0,
      "outputs": [
        {
          "output_type": "stream",
          "text": [
            "Confusion Matrix:\n",
            "[[692   0   1  86   6   0 202   0  13   0]\n",
            " [  1 879   0  40   0   0  78   0   2   0]\n",
            " [  7   0 455   3 408   0 125   0   2   0]\n",
            " [ 26   2   0 587  13   0 368   0   4   0]\n",
            " [  2   0 366   7 333   0 291   0   1   0]\n",
            " [  0   0   0   0   0 498   1 448   5  48]\n",
            " [186   0 189  41 316   0 255   0  13   0]\n",
            " [  0   0   0   0   0   9   0 761   1 229]\n",
            " [  0   0   0   7   3   2  79   7 900   2]\n",
            " [  0   0   0   0   0  14  13  13   0 960]]\n",
            "Training Accuracy: 64.15666666666667 %\n",
            "Testing Accuracy: 63.2 %\n"
          ],
          "name": "stdout"
        }
      ]
    }
  ]
}